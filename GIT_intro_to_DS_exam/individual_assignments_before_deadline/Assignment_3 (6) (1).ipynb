{
  "cells": [
    {
      "cell_type": "markdown",
      "metadata": {
        "deletable": false,
        "id": "Po0eSxqSj9Iv"
      },
      "source": [
        "# Assignment 3 for Course 1MS041\n",
        "Make         sure you pass the `# ... Test` cells and\n",
        " submit your solution notebook in the corresponding assignment on the course website. You can submit multiple times before the deadline         and your highest score will be used."
      ]
    },
    {
      "cell_type": "markdown",
      "metadata": {
        "deletable": false,
        "lx_assignment_number": "3",
        "lx_assignment_type": "ASSIGNMENT",
        "lx_assignment_type2print": "Assignment",
        "lx_problem_cell_type": "PROBLEM",
        "lx_problem_number": "1",
        "lx_problem_points": "8",
        "id": "NKsUZxkCj9I7"
      },
      "source": [
        "---\n",
        "## Assignment 3, PROBLEM 1\n",
        "Maximum Points = 8"
      ]
    },
    {
      "cell_type": "markdown",
      "metadata": {
        "deletable": false,
        "lx_assignment_number": "3",
        "lx_assignment_type": "ASSIGNMENT",
        "lx_assignment_type2print": "Assignment",
        "lx_problem_cell_type": "PROBLEM",
        "lx_problem_number": "1",
        "lx_problem_points": "8",
        "id": "YiOufVzDj9I9"
      },
      "source": [
        "\n",
        "Consider the data `X` and `y`, in the cell below. `X` denotes $20$ points in $\\mathbb{R}^2$ and `y` corresponds to the labels for these points, i.e. it is a classification problem.\n",
        "\n",
        "1. [3p] Implement the function `perceptron` by filling in `XXX`.\n",
        "2. [2p] Use your implemented `perceptron` function to compute a vector (numpy array) $\\hat w$ with shape `(3,1)` such that\n",
        "$$\n",
        "    (\\hat w \\cdot \\hat x_i) l_i > 0, \\quad \\forall i=1,\\ldots,20\n",
        "$$\n",
        "put your answer in `hat_w` below (the last dimension is the bias dimension, i.e. the added dimension we used to derive the perceptron)\n",
        "\n",
        "3. [3p] Use the vector $\\hat w$ that you just found and compute $r = \\max_i |x_i|$ (put your result in `r`), finally use this to give an upper bound to the number of iterations needed for the perceptron algorithm to converge on this dataset, see chapter 8 in the ITDS notes. Put the result in `iteration_bound`."
      ]
    },
    {
      "cell_type": "code",
      "execution_count": null,
      "metadata": {
        "deletable": false,
        "lx_assignment_number": "3",
        "lx_assignment_type": "ASSIGNMENT",
        "lx_assignment_type2print": "Assignment",
        "lx_problem_cell_type": "PROBLEM",
        "lx_problem_number": "1",
        "lx_problem_points": "8",
        "id": "VkF-dpMNj9I_"
      },
      "outputs": [],
      "source": [
        "\n",
        "import numpy as np\n",
        "X = np.array([[0.14774693918368506,0.8537253157278155],[-0.1755517430286779,0.8979710703337818],[0.5227216475286975,0.7448281947022451],[-0.5071170511153492,0.8002027400836075],[-0.39436968212400453,1.0177689414422981],[-0.3983065780966649,1.0443663197782966],[-0.08652771617599643,0.48036820824519255],[0.15352541170101042,0.6820807981911706],[-0.3303348532791869,1.120673883903539],[-0.2656220857139274,0.8526638282828739],[0.7259603693529442,0.25428467532034965],[0.4577253912481767,-0.2358809079980879],[0.9722462145222105,0.13128550836973255],[0.4089349951770505,-0.09503914544452634],[0.9718156747909192,0.3524307824261209],[1.2009353774940565,-0.25004126389987974],[1.271791635779178,-0.07571928320750206],[0.36784476124502913,-0.23743021661715671],[0.8918396050420891,-0.1029336332277948],[0.4501578013678095,-0.13188266835015783]])+np.array([10,0]).reshape(1,-1)\n",
        "y = np.array([1.0,1.0,1.0,1.0,1.0,1.0,1.0,1.0,1.0,1.0,-1.0,-1.0,-1.0,-1.0,-1.0,-1.0,-1.0,-1.0,-1.0,-1.0])"
      ]
    },
    {
      "cell_type": "code",
      "execution_count": null,
      "metadata": {
        "deletable": false,
        "lx_assignment_number": "3",
        "lx_assignment_type": "ASSIGNMENT",
        "lx_assignment_type2print": "Assignment",
        "lx_problem_cell_type": "PROBLEM",
        "lx_problem_number": "1",
        "lx_problem_points": "8",
        "id": "9G4CdT32j9JD"
      },
      "outputs": [],
      "source": [
        "# Part 1\n",
        "def perceptron(X_in,labels,max_iter=1000):\n",
        "    '''Runs the perceptron algorithm on X_in, labels, and does a maximum of max_iter iterations'''\n",
        "\n",
        "    w = np.array([0.,0.,0.])\n",
        "    iter = 0\n",
        "\n",
        "    while True:\n",
        "      iter += 1\n",
        "      if iter > max_iter:\n",
        "        break\n",
        "      m = 0\n",
        "      for i in range(len(X)):\n",
        "        if y[i]*(np.dot(w.T, np.append(X[i],[1]))) <= 0:\n",
        "          w += y[i]*np.append(X[i],[1])\n",
        "          m += 1\n",
        "\n",
        "      if m == 0:\n",
        "        break\n",
        "\n",
        "    # Dont forget the addition of the extra dimension to encode the\n",
        "    # bias in the perceptron, i.e. adding the extra dimension with value 1\n",
        "\n",
        "    return w #Make sure that w has the shape described in the problem"
      ]
    },
    {
      "cell_type": "code",
      "execution_count": null,
      "metadata": {
        "deletable": false,
        "lx_assignment_number": "3",
        "lx_assignment_type": "ASSIGNMENT",
        "lx_assignment_type2print": "Assignment",
        "lx_problem_cell_type": "PROBLEM",
        "lx_problem_number": "1",
        "lx_problem_points": "8",
        "id": "phShdCH9j9JF"
      },
      "outputs": [],
      "source": [
        "# Part 1\n",
        "hat_w = perceptron(X, y)\n"
      ]
    },
    {
      "cell_type": "code",
      "execution_count": null,
      "metadata": {
        "deletable": false,
        "lx_assignment_number": "3",
        "lx_assignment_type": "ASSIGNMENT",
        "lx_assignment_type2print": "Assignment",
        "lx_problem_cell_type": "PROBLEM",
        "lx_problem_number": "1",
        "lx_problem_points": "8",
        "id": "zGft7Ow_j9JG"
      },
      "outputs": [],
      "source": [
        "# Part 2\n",
        "\n",
        "temp = []\n",
        "for i in X:\n",
        "  temp.append(np.abs(i))\n",
        "r = np.max(temp)\n",
        "\n",
        "iteration_bound = int((r**2)*((np.linalg.norm(hat_w))**2))"
      ]
    },
    {
      "cell_type": "markdown",
      "metadata": {
        "deletable": false,
        "lx_assignment_number": "3",
        "lx_assignment_type": "ASSIGNMENT",
        "lx_assignment_type2print": "Assignment",
        "lx_problem_cell_type": "PROBLEM",
        "lx_problem_number": "2",
        "lx_problem_points": "8",
        "id": "2BGunDDMj9JJ"
      },
      "source": [
        "---\n",
        "## Assignment 3, PROBLEM 2\n",
        "Maximum Points = 8"
      ]
    },
    {
      "cell_type": "markdown",
      "metadata": {
        "deletable": false,
        "lx_assignment_number": "3",
        "lx_assignment_type": "ASSIGNMENT",
        "lx_assignment_type2print": "Assignment",
        "lx_problem_cell_type": "PROBLEM",
        "lx_problem_number": "2",
        "lx_problem_points": "8",
        "id": "Z_pcV1dSj9JK"
      },
      "source": [
        "\n",
        "For this problem you will need the [pandas](https://pandas.pydata.org/) package and the [sklearn](https://scikit-learn.org/stable/) package. If you download the updated `data` folder from the course website you will find a file called `indoor_train.csv`, this file includes a bunch of positions in (X,Y,Z) and also a location number. The idea is to assign a room number (Location) to the coordinates (X,Y,Z).\n",
        "\n",
        "1. [2p] Take the data in the file `indoor_train.csv` and load it using pandas into a dataframe `df_train`\n",
        "2. [3p] From this dataframe `df_train`, create two numpy arrays, one `Xtrain` and `Ytrain`, they should have sizes `(1154,3)` and `(1154,)` respectively. Their `dtype` should be `float64` and `int64` respectively.\n",
        "3. [3p] Train a Support Vector Classifier, `sklearn.svc.SVC`, on `Xtrain, Ytrain` with `kernel='linear'` and name the trained model `svc_train`.\n",
        "\n",
        "To mimic how [kaggle](https://www.kaggle.com/) works, the Autograder has access to a hidden test-set and will test your fitted model."
      ]
    },
    {
      "cell_type": "code",
      "source": [
        "# from google.colab import drive\n",
        "# drive.mount('/content/drive')"
      ],
      "metadata": {
        "id": "dkVdS2tso1Uc"
      },
      "execution_count": null,
      "outputs": []
    },
    {
      "cell_type": "code",
      "source": [
        "# %cd drive/My Drive/intro_to_DS_git_rep/1MS041-2023/notebooks/\n",
        "# !ls"
      ],
      "metadata": {
        "id": "MZJdy0QcpAUt"
      },
      "execution_count": null,
      "outputs": []
    },
    {
      "cell_type": "code",
      "execution_count": null,
      "metadata": {
        "deletable": false,
        "lx_assignment_number": "3",
        "lx_assignment_type": "ASSIGNMENT",
        "lx_assignment_type2print": "Assignment",
        "lx_problem_cell_type": "PROBLEM",
        "lx_problem_number": "2",
        "lx_problem_points": "8",
        "id": "HUWbIrdWj9JL"
      },
      "outputs": [],
      "source": [
        "import pandas as pd\n",
        "import numpy as np\n",
        "from sklearn import svm\n",
        "df_train = pd.read_csv('data/indoor_train.csv')"
      ]
    },
    {
      "cell_type": "code",
      "execution_count": null,
      "metadata": {
        "deletable": false,
        "lx_assignment_number": "3",
        "lx_assignment_type": "ASSIGNMENT",
        "lx_assignment_type2print": "Assignment",
        "lx_problem_cell_type": "PROBLEM",
        "lx_problem_number": "2",
        "lx_problem_points": "8",
        "id": "LwwB3Q7Rj9JM"
      },
      "outputs": [],
      "source": [
        "Xtrain = np.array(df_train[['Position X', ' Position Y','Position Z']])\n",
        "Ytrain = np.array(df_train.loc[:,'Location'].tolist())"
      ]
    },
    {
      "cell_type": "code",
      "execution_count": null,
      "metadata": {
        "deletable": false,
        "lx_assignment_number": "3",
        "lx_assignment_type": "ASSIGNMENT",
        "lx_assignment_type2print": "Assignment",
        "lx_problem_cell_type": "PROBLEM",
        "lx_problem_number": "2",
        "lx_problem_points": "8",
        "colab": {
          "base_uri": "https://localhost:8080/",
          "height": 74
        },
        "id": "u8mZXRwvj9JN",
        "outputId": "44388e0e-1c6c-40ec-e4c3-c7398207992e"
      },
      "outputs": [
        {
          "output_type": "execute_result",
          "data": {
            "text/plain": [
              "SVC(kernel='linear')"
            ],
            "text/html": [
              "<style>#sk-container-id-4 {color: black;background-color: white;}#sk-container-id-4 pre{padding: 0;}#sk-container-id-4 div.sk-toggleable {background-color: white;}#sk-container-id-4 label.sk-toggleable__label {cursor: pointer;display: block;width: 100%;margin-bottom: 0;padding: 0.3em;box-sizing: border-box;text-align: center;}#sk-container-id-4 label.sk-toggleable__label-arrow:before {content: \"▸\";float: left;margin-right: 0.25em;color: #696969;}#sk-container-id-4 label.sk-toggleable__label-arrow:hover:before {color: black;}#sk-container-id-4 div.sk-estimator:hover label.sk-toggleable__label-arrow:before {color: black;}#sk-container-id-4 div.sk-toggleable__content {max-height: 0;max-width: 0;overflow: hidden;text-align: left;background-color: #f0f8ff;}#sk-container-id-4 div.sk-toggleable__content pre {margin: 0.2em;color: black;border-radius: 0.25em;background-color: #f0f8ff;}#sk-container-id-4 input.sk-toggleable__control:checked~div.sk-toggleable__content {max-height: 200px;max-width: 100%;overflow: auto;}#sk-container-id-4 input.sk-toggleable__control:checked~label.sk-toggleable__label-arrow:before {content: \"▾\";}#sk-container-id-4 div.sk-estimator input.sk-toggleable__control:checked~label.sk-toggleable__label {background-color: #d4ebff;}#sk-container-id-4 div.sk-label input.sk-toggleable__control:checked~label.sk-toggleable__label {background-color: #d4ebff;}#sk-container-id-4 input.sk-hidden--visually {border: 0;clip: rect(1px 1px 1px 1px);clip: rect(1px, 1px, 1px, 1px);height: 1px;margin: -1px;overflow: hidden;padding: 0;position: absolute;width: 1px;}#sk-container-id-4 div.sk-estimator {font-family: monospace;background-color: #f0f8ff;border: 1px dotted black;border-radius: 0.25em;box-sizing: border-box;margin-bottom: 0.5em;}#sk-container-id-4 div.sk-estimator:hover {background-color: #d4ebff;}#sk-container-id-4 div.sk-parallel-item::after {content: \"\";width: 100%;border-bottom: 1px solid gray;flex-grow: 1;}#sk-container-id-4 div.sk-label:hover label.sk-toggleable__label {background-color: #d4ebff;}#sk-container-id-4 div.sk-serial::before {content: \"\";position: absolute;border-left: 1px solid gray;box-sizing: border-box;top: 0;bottom: 0;left: 50%;z-index: 0;}#sk-container-id-4 div.sk-serial {display: flex;flex-direction: column;align-items: center;background-color: white;padding-right: 0.2em;padding-left: 0.2em;position: relative;}#sk-container-id-4 div.sk-item {position: relative;z-index: 1;}#sk-container-id-4 div.sk-parallel {display: flex;align-items: stretch;justify-content: center;background-color: white;position: relative;}#sk-container-id-4 div.sk-item::before, #sk-container-id-4 div.sk-parallel-item::before {content: \"\";position: absolute;border-left: 1px solid gray;box-sizing: border-box;top: 0;bottom: 0;left: 50%;z-index: -1;}#sk-container-id-4 div.sk-parallel-item {display: flex;flex-direction: column;z-index: 1;position: relative;background-color: white;}#sk-container-id-4 div.sk-parallel-item:first-child::after {align-self: flex-end;width: 50%;}#sk-container-id-4 div.sk-parallel-item:last-child::after {align-self: flex-start;width: 50%;}#sk-container-id-4 div.sk-parallel-item:only-child::after {width: 0;}#sk-container-id-4 div.sk-dashed-wrapped {border: 1px dashed gray;margin: 0 0.4em 0.5em 0.4em;box-sizing: border-box;padding-bottom: 0.4em;background-color: white;}#sk-container-id-4 div.sk-label label {font-family: monospace;font-weight: bold;display: inline-block;line-height: 1.2em;}#sk-container-id-4 div.sk-label-container {text-align: center;}#sk-container-id-4 div.sk-container {/* jupyter's `normalize.less` sets `[hidden] { display: none; }` but bootstrap.min.css set `[hidden] { display: none !important; }` so we also need the `!important` here to be able to override the default hidden behavior on the sphinx rendered scikit-learn.org. See: https://github.com/scikit-learn/scikit-learn/issues/21755 */display: inline-block !important;position: relative;}#sk-container-id-4 div.sk-text-repr-fallback {display: none;}</style><div id=\"sk-container-id-4\" class=\"sk-top-container\"><div class=\"sk-text-repr-fallback\"><pre>SVC(kernel=&#x27;linear&#x27;)</pre><b>In a Jupyter environment, please rerun this cell to show the HTML representation or trust the notebook. <br />On GitHub, the HTML representation is unable to render, please try loading this page with nbviewer.org.</b></div><div class=\"sk-container\" hidden><div class=\"sk-item\"><div class=\"sk-estimator sk-toggleable\"><input class=\"sk-toggleable__control sk-hidden--visually\" id=\"sk-estimator-id-4\" type=\"checkbox\" checked><label for=\"sk-estimator-id-4\" class=\"sk-toggleable__label sk-toggleable__label-arrow\">SVC</label><div class=\"sk-toggleable__content\"><pre>SVC(kernel=&#x27;linear&#x27;)</pre></div></div></div></div></div>"
            ]
          },
          "metadata": {},
          "execution_count": 47
        }
      ],
      "source": [
        "svc_train = svm.SVC(kernel='linear')\n",
        "svc_train.fit(Xtrain, Ytrain)\n",
        "\n",
        "# # Predict using the SVM model\n",
        "# predictions = svc_train.predict(Xtrain)\n",
        "\n",
        "# # Evaluate the predictions\n",
        "# accuracy = svc_train.score(Xtrain, Ytrain)\n",
        "# print(\"Accuracy of SVM:\", accuracy)"
      ]
    },
    {
      "cell_type": "markdown",
      "metadata": {
        "deletable": false,
        "lx_assignment_number": "3",
        "lx_assignment_type": "ASSIGNMENT",
        "lx_assignment_type2print": "Assignment",
        "lx_problem_cell_type": "PROBLEM",
        "lx_problem_number": "3",
        "lx_problem_points": "8",
        "id": "wOhSRQlZj9JO"
      },
      "source": [
        "---\n",
        "## Assignment 3, PROBLEM 3\n",
        "Maximum Points = 8"
      ]
    },
    {
      "cell_type": "markdown",
      "metadata": {
        "deletable": false,
        "lx_assignment_number": "3",
        "lx_assignment_type": "ASSIGNMENT",
        "lx_assignment_type2print": "Assignment",
        "lx_problem_cell_type": "PROBLEM",
        "lx_problem_number": "3",
        "lx_problem_points": "8",
        "id": "-FSqEo3Aj9JP"
      },
      "source": [
        "\n",
        "## SMS spam filtering [8p]\n",
        "\n",
        "In the following problem we will explore SMS spam texts. The dataset is the `SMS Spam Collection Dataset` and we have provided for you a way to load the data. If you run the appropriate cell below, the result will be in the `spam_no_spam` variable. The result is a `list` of `tuples` with the first position in the tuple being the SMS text and the second being a flag `0 = not spam` and `1 = spam`.\n",
        "\n",
        "1. [3p] Let $X$ be the random variable that represents each SMS text (an entry in the list), and let $Y$ represent whether text is spam or not i.e. $Y \\in \\{0,1\\}$. Thus $\\mathbb{P}(Y = 1)$ is the probability that we get a spam. The goal is to estimate:\n",
        "$$\n",
        "    \\mathbb{P}(Y = 1 | \\text{\"free\" or \"prize\" is in } X) \\enspace .\n",
        "$$\n",
        "That is, the probability that the SMS is spam given that \"free\" or \"prize\" occurs in the SMS. (This is precision). Hint: it is good to remove the upper/lower case of words so that we can also find \"Free\" and \"Prize\"; this can be done with `text.lower()` if `text` a string.\n",
        "\n",
        "2. [3p] Estimate the probability that the word \"free\" or \"prize\" is in the text given that it is spam. (This is recall) I.e. estimate\n",
        "$$\n",
        "    \\mathbb{P}(\\text{\"free\" or \"prize\" is in } X \\mid Y = 1) \\enspace .\n",
        "$$\n",
        "3. [2p] Provide a \"90\\%\" interval of confidence around the true probability from **part 1**. I.e. use the Hoeffding inequality to obtain for your estimate $\\hat P$. Find $l > 0$ such that the following holds:\n",
        "$$\n",
        "    \\mathbb{P}(\\hat P - l \\leq \\mathbb{E}[\\hat P] \\leq \\hat P + l) \\geq 0.9 \\enspace .\n",
        "$$"
      ]
    },
    {
      "cell_type": "code",
      "execution_count": null,
      "metadata": {
        "deletable": false,
        "lx_assignment_number": "3",
        "lx_assignment_type": "ASSIGNMENT",
        "lx_assignment_type2print": "Assignment",
        "lx_problem_cell_type": "PROBLEM",
        "lx_problem_number": "3",
        "lx_problem_points": "8",
        "id": "7AU63vZhj9JQ"
      },
      "outputs": [],
      "source": [
        "\n",
        "# Run this cell to get the SMS text data\n",
        "def load_sms():\n",
        "    import csv\n",
        "    lines = []\n",
        "    hamspam = {'ham': 0, 'spam': 1}\n",
        "    with open('data/spam.csv', mode='r',encoding='latin-1') as f:\n",
        "        reader = csv.reader(f)\n",
        "        header = next(reader)\n",
        "        lines = [(line[1],hamspam[line[0]]) for line in reader]\n",
        "\n",
        "    return lines\n",
        "spam_no_spam = load_sms()"
      ]
    },
    {
      "cell_type": "code",
      "execution_count": null,
      "metadata": {
        "deletable": false,
        "lx_assignment_number": "3",
        "lx_assignment_type": "ASSIGNMENT",
        "lx_assignment_type2print": "Assignment",
        "lx_problem_cell_type": "PROBLEM",
        "lx_problem_number": "3",
        "lx_problem_points": "8",
        "id": "ZQ_AaaLVj9JR"
      },
      "outputs": [],
      "source": [
        "\n",
        "# fill in the estimate for part 1 here (should be a number between 0 and 1)\n",
        "occurance = 0\n",
        "spam = 0\n",
        "for i in spam_no_spam:\n",
        "  if 'free' in i[0].lower() or 'prize' in i[0].lower():\n",
        "    occurance += 1\n",
        "\n",
        "    if i[1] == 1:\n",
        "      spam += 1\n",
        "\n",
        "problem4_hatP = spam/occurance"
      ]
    },
    {
      "cell_type": "code",
      "execution_count": 93,
      "metadata": {
        "deletable": false,
        "lx_assignment_number": "3",
        "lx_assignment_type": "ASSIGNMENT",
        "lx_assignment_type2print": "Assignment",
        "lx_problem_cell_type": "PROBLEM",
        "lx_problem_number": "3",
        "lx_problem_points": "8",
        "id": "icZ55ae6j9JR"
      },
      "outputs": [],
      "source": [
        "\n",
        "# fill in the estimate for part 2 here (should be a number between 0 and 1)\n",
        "temp = []\n",
        "for i in spam_no_spam:\n",
        "  if i[1] == 1:\n",
        "    temp.append(i)\n",
        "\n",
        "c = 0\n",
        "occurance1 = 0\n",
        "for i in temp:\n",
        "  # if 'free' in i[0].lower() and 'prize' in i[0].lower():\n",
        "\n",
        "  if (('free' in i[0].lower() and i[0].lower().find('free') != -1  and not i[0][i[0].lower().find('free')+3+1].isalpha())or\n",
        "  ('prize' in i[0].lower()  and i[0].lower().find('prize') != -1  and not i[0][i[0].lower().find('prize')+3+1].isalpha())):\n",
        "    occurance1 += 1\n",
        "\n",
        "# (problem4_hatP*occurance)/len(temp) == spam/(len(temp)) == occurance1/len(temp)\n",
        "\n",
        "problem4_hatP2 = occurance1/len(temp)"
      ]
    },
    {
      "cell_type": "code",
      "execution_count": null,
      "metadata": {
        "deletable": false,
        "lx_assignment_number": "3",
        "lx_assignment_type": "ASSIGNMENT",
        "lx_assignment_type2print": "Assignment",
        "lx_problem_cell_type": "PROBLEM",
        "lx_problem_number": "3",
        "lx_problem_points": "8",
        "id": "KRHX8adRj9JS"
      },
      "outputs": [],
      "source": [
        "import math\n",
        "# fill in the calculated l from part 3 here\n",
        "\n",
        "mean_p_hat = problem4_hatP\n",
        "\n",
        "# Select a Significance Level\n",
        "alpha = 0.1\n",
        "\n",
        "# Apply the Hoeffding Inequality\n",
        "n = occurance\n",
        "l = math.sqrt(math.log(2/alpha) / (2 * n))\n",
        "\n",
        "# Calculate the confidence interval\n",
        "lower_bound = mean_p_hat - l\n",
        "upper_bound = mean_p_hat + l\n",
        "\n",
        "problem4_l = l"
      ]
    }
  ],
  "metadata": {
    "lx_assignment_number": 3,
    "lx_course_instance": "2023",
    "lx_course_name": "Introduction to Data Science",
    "lx_course_number": "1MS041",
    "colab": {
      "provenance": []
    },
    "language_info": {
      "name": "python"
    },
    "kernelspec": {
      "name": "python3",
      "display_name": "Python 3"
    }
  },
  "nbformat": 4,
  "nbformat_minor": 0
}