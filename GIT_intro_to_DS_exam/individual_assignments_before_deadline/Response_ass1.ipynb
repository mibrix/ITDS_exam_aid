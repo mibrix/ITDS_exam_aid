{
 "cells": [
  {
   "cell_type": "markdown",
   "id": "09b3d60a",
   "metadata": {
    "deletable": false
   },
   "source": [
    "# Assignment 1 for Course 1MS041\n",
    "Make         sure you pass the `# ... Test` cells and\n",
    " submit your solution notebook in the corresponding assignment on the course website. You can submit multiple times before the deadline         and your highest score will be used."
   ]
  },
  {
   "cell_type": "markdown",
   "id": "aed58885",
   "metadata": {
    "deletable": false,
    "id": "0ODkrF_Jdvz1",
    "lx_assignment_number": "1",
    "lx_assignment_type": "ASSIGNMENT",
    "lx_assignment_type2print": "Assignment",
    "lx_problem_cell_type": "PROBLEM",
    "lx_problem_number": "1",
    "lx_problem_points": "3"
   },
   "source": [
    "---\n",
    "## Assignment 1, PROBLEM 1\n",
    "Maximum Points = 3"
   ]
  },
  {
   "cell_type": "markdown",
   "id": "4073c13e",
   "metadata": {
    "deletable": false,
    "id": "s6aT_lZ2dvz2",
    "lx_assignment_number": "1",
    "lx_assignment_type": "ASSIGNMENT",
    "lx_assignment_type2print": "Assignment",
    "lx_problem_cell_type": "PROBLEM",
    "lx_problem_number": "1",
    "lx_problem_points": "3"
   },
   "source": [
    "\n",
    "\n",
    "Given that you are being introduced to data science it is important to bear in mind the true costs of AI, a highly predictive family of algorithms used in data engineering sciences:\n",
    "\n",
    "Read the 16 pages of [ai-anatomy-publication.pdf](http://www.anatomyof.ai/img/ai-anatomy-publication.pdf) with the highly detailed [ai-anatomy-map.pdf](https://anatomyof.ai/img/ai-anatomy-map.pdf) of [https://anatomyof.ai/](https://anatomyof.ai/), \"Anatomy of an AI System\" By Kate Crawford and Vladan Joler (2018).  The first problem in ASSIGNMENT 1 is a trivial test of your reading comprehension.\n",
    "\n",
    "\n",
    "Answer whether each of the following statements is `True` or `False` *according to the authors* by appropriately replacing `Xxxxx` coresponding to `TruthValueOfStatement0a`, `TruthValueOfStatement0b` and `TruthValueOfStatement0c`, respectively, in the next cell to demonstrate your reading comprehension.\n",
    "\n",
    "1. `Statement0a =` *Each small moment of convenience (provided by Amazon's Echo) – be it answering a question, turning on a light, or playing a song – requires a vast planetary network, fueled by the extraction of non-renewable materials, labor, and data.*\n",
    "2. `Statement0b =` *The Echo user is simultaneously a consumer, a resource, a worker, and a product*\n",
    "3. `Statement0c =` *Many of the assumptions about human life made by machine learning systems are narrow, normative and laden with error. Yet they are inscribing and building those assumptions into a new world, and will increasingly play a role in how opportunities, wealth, and knowledge are distributed.*"
   ]
  },
  {
   "cell_type": "code",
   "execution_count": 1,
   "id": "131ec9bc",
   "metadata": {
    "deletable": false,
    "execution": {
     "iopub.execute_input": "2023-09-30T07:51:08.616449Z",
     "iopub.status.busy": "2023-09-30T07:51:08.615344Z",
     "iopub.status.idle": "2023-09-30T07:51:08.639400Z",
     "shell.execute_reply": "2023-09-30T07:51:08.637416Z"
    },
    "id": "XOG6O7wtdvz4",
    "lx_assignment_number": "1",
    "lx_assignment_type": "ASSIGNMENT",
    "lx_assignment_type2print": "Assignment",
    "lx_problem_cell_type": "PROBLEM",
    "lx_problem_number": "1",
    "lx_problem_points": "3"
   },
   "outputs": [],
   "source": [
    "\n",
    "# Replace Xxxxx with True or False; Don't modify anything else in this cell!\n",
    "\n",
    "TruthValueOfStatement0a = True\n",
    "\n",
    "TruthValueOfStatement0b = True\n",
    "\n",
    "TruthValueOfStatement0c = True"
   ]
  },
  {
   "cell_type": "markdown",
   "id": "41fa2cf7",
   "metadata": {
    "deletable": false,
    "id": "91nCglLFdvz5",
    "lx_assignment_number": "1",
    "lx_assignment_type": "ASSIGNMENT",
    "lx_assignment_type2print": "Assignment",
    "lx_problem_cell_type": "Test",
    "lx_problem_number": "1",
    "lx_problem_points": "3"
   },
   "source": [
    "---\n",
    "#### Local Test for Assignment 1, PROBLEM 1\n",
    "Evaluate cell below to make sure your answer is valid.                             You **should not** modify anything in the cell below when evaluating it to do a local test of                             your solution.\n",
    "You may need to include and evaluate code snippets from lecture notebooks in cells above to make the local test work correctly sometimes (see error messages for clues). This is meant to help you become efficient at recalling materials covered in lectures that relate to this problem. Such local tests will generally not be available in the exam."
   ]
  },
  {
   "cell_type": "code",
   "execution_count": 2,
   "id": "66198248",
   "metadata": {
    "deletable": false,
    "execution": {
     "iopub.execute_input": "2023-09-30T07:51:08.646313Z",
     "iopub.status.busy": "2023-09-30T07:51:08.645876Z",
     "iopub.status.idle": "2023-09-30T07:51:08.652789Z",
     "shell.execute_reply": "2023-09-30T07:51:08.651824Z"
    },
    "id": "5sX5coo3dvz6",
    "lx_assignment_number": "1",
    "lx_assignment_type": "ASSIGNMENT",
    "lx_assignment_type2print": "Assignment",
    "lx_problem_cell_type": "Test",
    "lx_problem_number": "1",
    "lx_problem_points": "3"
   },
   "outputs": [
    {
     "name": "stdout",
     "output_type": "stream",
     "text": [
      "Good, you have answered either True or False. Hopefully they are the correct answers!\n"
     ]
    }
   ],
   "source": [
    "# Test locally to ensure an acceptable answer, True or False\n",
    "try:\n",
    "    assert(isinstance(TruthValueOfStatement0a, bool))\n",
    "    assert(isinstance(TruthValueOfStatement0b, bool))\n",
    "    assert(isinstance(TruthValueOfStatement0c, bool))\n",
    "except:\n",
    "    print(\"Try again. You are not writing True or False for your answers.\")\n",
    "else:\n",
    "    print(\"Good, you have answered either True or False. Hopefully they are the correct answers!\")"
   ]
  },
  {
   "cell_type": "code",
   "execution_count": 3,
   "id": "5f6730c5",
   "metadata": {
    "deletable": false,
    "execution": {
     "iopub.execute_input": "2023-09-30T07:51:08.658481Z",
     "iopub.status.busy": "2023-09-30T07:51:08.658100Z",
     "iopub.status.idle": "2023-09-30T07:51:08.667908Z",
     "shell.execute_reply": "2023-09-30T07:51:08.666989Z"
    },
    "lx_assignment_number": "1",
    "lx_assignment_type": "ASSIGNMENT",
    "lx_assignment_type2print": "Assignment",
    "lx_problem_cell_type": "TEST",
    "lx_problem_number": "1",
    "lx_problem_points": "3",
    "lx_test_only": "True"
   },
   "outputs": [
    {
     "name": "stdout",
     "output_type": "stream",
     "text": [
      "You have the correct answer for TruthValueOfStatement0a, congratulations!\n",
      "The number of points you have scored for this problem so far = 1\n",
      "You have the correct answer for TruthValueOfStatement0b, congratulations!\n",
      "The number of points you have scored for this problem so far = 2\n",
      "You have the correct answer for TruthValueOfStatement0c, congratulations!\n",
      "The number of points you have scored for this problem so far = 3\n",
      "The number of points you have scored for this problem is 3 out of 3\n",
      "The number of points you have accumulated thus far is   3 out of 3\n"
     ]
    }
   ],
   "source": []
  },
  {
   "cell_type": "markdown",
   "id": "91d2be74",
   "metadata": {
    "deletable": false,
    "id": "gVva-qB2dvz6",
    "lx_assignment_number": "1",
    "lx_assignment_type": "ASSIGNMENT",
    "lx_assignment_type2print": "Assignment",
    "lx_problem_cell_type": "PROBLEM",
    "lx_problem_number": "2",
    "lx_problem_points": "2"
   },
   "source": [
    "---\n",
    "## Assignment 1, PROBLEM 2\n",
    "Maximum Points = 2"
   ]
  },
  {
   "cell_type": "markdown",
   "id": "27f0786a",
   "metadata": {
    "deletable": false,
    "id": "XQ1zfLs9dvz7",
    "lx_assignment_number": "1",
    "lx_assignment_type": "ASSIGNMENT",
    "lx_assignment_type2print": "Assignment",
    "lx_problem_cell_type": "PROBLEM",
    "lx_problem_number": "2",
    "lx_problem_points": "2"
   },
   "source": [
    "\n",
    "Evaluate the following cells by replacing `X` with the right command-line option to `head` in order to find the first four lines of the csv file `data/final.csv`\n",
    "\n",
    "```\n",
    "%%sh\n",
    "man head\n",
    "\n",
    "HEAD(1)                   BSD General Commands Manual                  HEAD(1)\n",
    "\n",
    "NAME\n",
    "     head -- display first lines of a file\n",
    "\n",
    "SYNOPSIS\n",
    "     head [-n count | -c bytes] [file ...]\n",
    "\n",
    "DESCRIPTION\n",
    "     This filter displays the first count lines or bytes of each of the speci-\n",
    "     fied files, or of the standard input if no files are specified.  If count\n",
    "     is omitted it defaults to 10.\n",
    "\n",
    "     If more than a single file is specified, each file is preceded by a\n",
    "     header consisting of the string ``==> XXX <=='' where ``XXX'' is the name\n",
    "     of the file.\n",
    "\n",
    "EXIT STATUS\n",
    "     The head utility exits 0 on success, and >0 if an error occurs.\n",
    "\n",
    "SEE ALSO\n",
    "     tail(1)\n",
    "\n",
    "HISTORY\n",
    "     The head command appeared in PWB UNIX.\n",
    "\n",
    "BSD                              June 6, 1993                              BSD\n",
    "```"
   ]
  },
  {
   "cell_type": "code",
   "execution_count": 4,
   "id": "f7893551",
   "metadata": {
    "colab": {
     "base_uri": "https://localhost:8080/"
    },
    "deletable": false,
    "execution": {
     "iopub.execute_input": "2023-09-30T07:51:08.672995Z",
     "iopub.status.busy": "2023-09-30T07:51:08.672662Z",
     "iopub.status.idle": "2023-09-30T07:51:08.707664Z",
     "shell.execute_reply": "2023-09-30T07:51:08.706730Z"
    },
    "id": "RxM6rL-Jdvz9",
    "lx_assignment_number": "1",
    "lx_assignment_type": "ASSIGNMENT",
    "lx_assignment_type2print": "Assignment",
    "lx_problem_cell_type": "PROBLEM",
    "lx_problem_number": "2",
    "lx_problem_points": "2",
    "outputId": "7245ab14-8d1c-457a-d7ae-0f1a8164b751"
   },
   "outputs": [
    {
     "name": "stdout",
     "output_type": "stream",
     "text": [
      "region,municipality,district,party,votes\r\n",
      "Blekinge län,Karlshamn,0 - Centrala Asarum,S,519\r\n",
      "Blekinge län,Karlshamn,0 - Centrala Asarum,SD,311\r\n",
      "Blekinge län,Karlshamn,0 - Centrala Asarum,M,162\r\n"
     ]
    }
   ],
   "source": [
    "%%sh\n",
    "head -4 data/final.csv"
   ]
  },
  {
   "cell_type": "code",
   "execution_count": 5,
   "id": "e0bbbd1c",
   "metadata": {
    "deletable": false,
    "execution": {
     "iopub.execute_input": "2023-09-30T07:51:08.712448Z",
     "iopub.status.busy": "2023-09-30T07:51:08.712039Z",
     "iopub.status.idle": "2023-09-30T07:51:08.717103Z",
     "shell.execute_reply": "2023-09-30T07:51:08.716224Z"
    },
    "id": "J4diEDEJdvz-",
    "lx_assignment_number": "1",
    "lx_assignment_type": "ASSIGNMENT",
    "lx_assignment_type2print": "Assignment",
    "lx_problem_cell_type": "PROBLEM",
    "lx_problem_number": "2",
    "lx_problem_points": "2"
   },
   "outputs": [],
   "source": [
    "line_1_final = \"region,municipality,district,party,votes\"\n",
    "line_2_final = \"Blekinge län,Karlshamn,0 - Centrala Asarum,SD,311\"      #<- chyba toto mal byt tento riadok \"Blekinge län,Karlshamn,0 - Centrala Asarum,S,519\""
   ]
  },
  {
   "cell_type": "markdown",
   "id": "d62b30a3",
   "metadata": {
    "deletable": false,
    "id": "WxqTgifWdvz-",
    "lx_assignment_number": "1",
    "lx_assignment_type": "ASSIGNMENT",
    "lx_assignment_type2print": "Assignment",
    "lx_problem_cell_type": "Test",
    "lx_problem_number": "2",
    "lx_problem_points": "2"
   },
   "source": [
    "---\n",
    "#### Local Test for Assignment 1, PROBLEM 2\n",
    "Evaluate cell below to make sure your answer is valid.                             You **should not** modify anything in the cell below when evaluating it to do a local test of                             your solution.\n",
    "You may need to include and evaluate code snippets from lecture notebooks in cells above to make the local test work correctly sometimes (see error messages for clues). This is meant to help you become efficient at recalling materials covered in lectures that relate to this problem. Such local tests will generally not be available in the exam."
   ]
  },
  {
   "cell_type": "code",
   "execution_count": 6,
   "id": "8e6a3287",
   "metadata": {
    "colab": {
     "base_uri": "https://localhost:8080/"
    },
    "deletable": false,
    "execution": {
     "iopub.execute_input": "2023-09-30T07:51:08.721362Z",
     "iopub.status.busy": "2023-09-30T07:51:08.720993Z",
     "iopub.status.idle": "2023-09-30T07:51:08.726976Z",
     "shell.execute_reply": "2023-09-30T07:51:08.726092Z"
    },
    "id": "604GJ6ozdvz_",
    "lx_assignment_number": "1",
    "lx_assignment_type": "ASSIGNMENT",
    "lx_assignment_type2print": "Assignment",
    "lx_problem_cell_type": "Test",
    "lx_problem_number": "2",
    "lx_problem_points": "2",
    "outputId": "579bae0a-0dc2-4e96-d191-da2f0d5eca9c"
   },
   "outputs": [
    {
     "name": "stdout",
     "output_type": "stream",
     "text": [
      "Good! You have answered as a string for line 1. Hopefully it is the correct!\n",
      "Good! You have answered as a string for line 2. Hopefully it is the correct!\n"
     ]
    }
   ],
   "source": [
    "# Evaluate this cell locally to make sure you have the answer as a string\n",
    "try:\n",
    "    assert(type(line_1_final) == str)\n",
    "    print(\"Good! You have answered as a string for line 1. Hopefully it is the correct!\")\n",
    "except AssertionError:\n",
    "    print(\"Try Again. You should answer with a string.\")\n",
    "try:\n",
    "    assert(type(line_2_final) == str)\n",
    "    print(\"Good! You have answered as a string for line 2. Hopefully it is the correct!\")\n",
    "except AssertionError:\n",
    "    print(\"Try Again. You should answer with a string.\")"
   ]
  },
  {
   "cell_type": "code",
   "execution_count": 7,
   "id": "ac06cbe1",
   "metadata": {
    "deletable": false,
    "execution": {
     "iopub.execute_input": "2023-09-30T07:51:08.731727Z",
     "iopub.status.busy": "2023-09-30T07:51:08.731126Z",
     "iopub.status.idle": "2023-09-30T07:51:08.738964Z",
     "shell.execute_reply": "2023-09-30T07:51:08.738291Z"
    },
    "lx_assignment_number": "1",
    "lx_assignment_type": "ASSIGNMENT",
    "lx_assignment_type2print": "Assignment",
    "lx_problem_cell_type": "TEST",
    "lx_problem_number": "2",
    "lx_problem_points": "2",
    "lx_test_only": "True"
   },
   "outputs": [
    {
     "name": "stdout",
     "output_type": "stream",
     "text": [
      "You have the correct first line, congratulations!\n",
      "The number of points you have scored for this problem so far = 1\n",
      "Your second line is not correct. Try again.\n",
      "The number of points you have scored for this problem so far = 1\n",
      "The number of points you have scored for this problem is 1 out of 2\n",
      "The number of points you have accumulated thus far is   4 out of 5\n"
     ]
    }
   ],
   "source": []
  },
  {
   "cell_type": "markdown",
   "id": "b9be0c78",
   "metadata": {
    "deletable": false,
    "id": "uZnUsIZYdvz_",
    "lx_assignment_number": "1",
    "lx_assignment_type": "ASSIGNMENT",
    "lx_assignment_type2print": "Assignment",
    "lx_problem_cell_type": "PROBLEM",
    "lx_problem_number": "3",
    "lx_problem_points": "3"
   },
   "source": [
    "---\n",
    "## Assignment 1, PROBLEM 3\n",
    "Maximum Points = 3"
   ]
  },
  {
   "cell_type": "markdown",
   "id": "954027df",
   "metadata": {
    "deletable": false,
    "id": "Xkk2Ah9vdvz_",
    "lx_assignment_number": "1",
    "lx_assignment_type": "ASSIGNMENT",
    "lx_assignment_type2print": "Assignment",
    "lx_problem_cell_type": "PROBLEM",
    "lx_problem_number": "3",
    "lx_problem_points": "3"
   },
   "source": [
    "\n",
    "In this assignment the goal is to parse the `final.csv` file from the previous problem.\n",
    "\n",
    "1. Read the file `data/final.csv` and parse it using the `csv` package and store the result as follows\n",
    "\n",
    "the `header` variable contains a list of names all as strings\n",
    "\n",
    "the `data` variable should be a list of lists containing all the rows of the csv file"
   ]
  },
  {
   "cell_type": "code",
   "execution_count": 8,
   "id": "cc6005a6",
   "metadata": {
    "colab": {
     "base_uri": "https://localhost:8080/"
    },
    "deletable": false,
    "execution": {
     "iopub.execute_input": "2023-09-30T07:51:08.744129Z",
     "iopub.status.busy": "2023-09-30T07:51:08.743754Z",
     "iopub.status.idle": "2023-09-30T07:51:08.960320Z",
     "shell.execute_reply": "2023-09-30T07:51:08.959489Z"
    },
    "id": "Mh80AR7Advz_",
    "lx_assignment_number": "1",
    "lx_assignment_type": "ASSIGNMENT",
    "lx_assignment_type2print": "Assignment",
    "lx_problem_cell_type": "PROBLEM",
    "lx_problem_number": "3",
    "lx_problem_points": "3",
    "outputId": "62bc9b9a-3dea-45ed-c61b-8620550a1d73"
   },
   "outputs": [
    {
     "name": "stdout",
     "output_type": "stream",
     "text": [
      "[['Blekinge län', 'Karlshamn', '0 - Centrala Asarum', 'S', '519'], ['Blekinge län', 'Karlshamn', '0 - Centrala Asarum', 'SD', '311'], ['Blekinge län', 'Karlshamn', '0 - Centrala Asarum', 'M', '162'], ['Blekinge län', 'Karlshamn', '0 - Centrala Asarum', 'V', '82'], ['Blekinge län', 'Karlshamn', '0 - Centrala Asarum', 'KD', '53']]\n",
      "['region', 'municipality', 'district', 'party', 'votes']\n"
     ]
    }
   ],
   "source": [
    "import csv\n",
    "\n",
    "header = []\n",
    "\n",
    "data = []\n",
    "\n",
    "header = []\n",
    "with open('data/final.csv', 'r') as csvfile:\n",
    "    datareader = csv.reader(csvfile)\n",
    "    for n,row in enumerate(datareader):\n",
    "        if n == 0:\n",
    "            header = row\n",
    "        else:\n",
    "            data.append(row)\n",
    "\n",
    "print(data[:5])\n",
    "print(header)\n"
   ]
  },
  {
   "cell_type": "markdown",
   "id": "19b87826",
   "metadata": {
    "deletable": false,
    "id": "c2Q5MY5Ddv0A",
    "lx_assignment_number": "1",
    "lx_assignment_type": "ASSIGNMENT",
    "lx_assignment_type2print": "Assignment",
    "lx_problem_cell_type": "Test",
    "lx_problem_number": "3",
    "lx_problem_points": "3"
   },
   "source": [
    "---\n",
    "#### Local Test for Assignment 1, PROBLEM 3\n",
    "Evaluate cell below to make sure your answer is valid.                             You **should not** modify anything in the cell below when evaluating it to do a local test of                             your solution.\n",
    "You may need to include and evaluate code snippets from lecture notebooks in cells above to make the local test work correctly sometimes (see error messages for clues). This is meant to help you become efficient at recalling materials covered in lectures that relate to this problem. Such local tests will generally not be available in the exam."
   ]
  },
  {
   "cell_type": "code",
   "execution_count": 9,
   "id": "e3d18bcd",
   "metadata": {
    "colab": {
     "base_uri": "https://localhost:8080/"
    },
    "deletable": false,
    "execution": {
     "iopub.execute_input": "2023-09-30T07:51:08.964451Z",
     "iopub.status.busy": "2023-09-30T07:51:08.963876Z",
     "iopub.status.idle": "2023-09-30T07:51:08.987087Z",
     "shell.execute_reply": "2023-09-30T07:51:08.986196Z"
    },
    "id": "yNJ7cJZIdv0A",
    "lx_assignment_number": "1",
    "lx_assignment_type": "ASSIGNMENT",
    "lx_assignment_type2print": "Assignment",
    "lx_problem_cell_type": "Test",
    "lx_problem_number": "3",
    "lx_problem_points": "3",
    "outputId": "4eb58e2e-186b-4ad4-a30e-2a7b7080668a"
   },
   "outputs": [
    {
     "name": "stdout",
     "output_type": "stream",
     "text": [
      "Good! You have the header as a list. Hopefully it is the correct!\n",
      "Good! You have the header as a list of strings. Hopefully it is the correct!\n",
      "Good! You have the data as a list. Hopefully it is the correct!\n",
      "Good! You have the data as a list of lists. Hopefully it is the correct!\n",
      "Good! You have the data as a list of lists of strings. Hopefully it is the correct!\n"
     ]
    }
   ],
   "source": [
    "\n",
    "# Evaluate this cell locally to make sure you have the answer in the right format\n",
    "try:\n",
    "    assert(type(header) == list)\n",
    "    print(\"Good! You have the header as a list. Hopefully it is the correct!\")\n",
    "except AssertionError:\n",
    "    print(\"Try Again. You should answer with a list.\")\n",
    "try:\n",
    "    types = set([type(a) for a in header])\n",
    "    assert((len(types) == 1) and (list(types)[0] == str))\n",
    "    print(\"Good! You have the header as a list of strings. Hopefully it is the correct!\")\n",
    "except AssertionError:\n",
    "    print(\"Try Again. You should answer with a list of strings.\")\n",
    "try:\n",
    "    assert(type(data) == list)\n",
    "    print(\"Good! You have the data as a list. Hopefully it is the correct!\")\n",
    "except AssertionError:\n",
    "    print(\"Try Again. You should answer with a list.\")\n",
    "try:\n",
    "    types = set([type(a) for a in data])\n",
    "    assert((len(types) == 1) and (list(types)[0] == list))\n",
    "    print(\"Good! You have the data as a list of lists. Hopefully it is the correct!\")\n",
    "except AssertionError:\n",
    "    print(\"Try Again. You should answer with a list of lists.\")\n",
    "try:\n",
    "    types = set(sum([[type(d) for d in t] for t in data[:1]],[]))\n",
    "    assert((len(types) == 1) and (list(types)[0] == str))\n",
    "    print(\"Good! You have the data as a list of lists of strings. Hopefully it is the correct!\")\n",
    "except AssertionError:\n",
    "    print(\"Try Again. You should answer with a list of lists of strings.\")"
   ]
  },
  {
   "cell_type": "code",
   "execution_count": 10,
   "id": "673b4022",
   "metadata": {
    "deletable": false,
    "execution": {
     "iopub.execute_input": "2023-09-30T07:51:08.992275Z",
     "iopub.status.busy": "2023-09-30T07:51:08.991725Z",
     "iopub.status.idle": "2023-09-30T07:51:09.209409Z",
     "shell.execute_reply": "2023-09-30T07:51:09.208595Z"
    },
    "lx_assignment_number": "1",
    "lx_assignment_type": "ASSIGNMENT",
    "lx_assignment_type2print": "Assignment",
    "lx_problem_cell_type": "TEST",
    "lx_problem_number": "3",
    "lx_problem_points": "3",
    "lx_test_only": "True",
    "scrolled": true
   },
   "outputs": [
    {
     "name": "stdout",
     "output_type": "stream",
     "text": [
      "Good! Your header coincides with the reference\n",
      "The number of points you have scored for this problem so far = 1\n",
      "Good! Your data coincides with the reference on a test line\n",
      "The number of points you have scored for this problem so far = 3\n",
      "The number of points you have scored for this problem is 3 out of 3\n",
      "The number of points you have accumulated thus far is   7 out of 8\n"
     ]
    }
   ],
   "source": []
  },
  {
   "cell_type": "markdown",
   "id": "8bda256c",
   "metadata": {
    "deletable": false,
    "id": "zfcZDHIJdv0A",
    "lx_assignment_number": "1",
    "lx_assignment_type": "ASSIGNMENT",
    "lx_assignment_type2print": "Assignment",
    "lx_problem_cell_type": "PROBLEM",
    "lx_problem_number": "4",
    "lx_problem_points": "8"
   },
   "source": [
    "---\n",
    "## Assignment 1, PROBLEM 4\n",
    "Maximum Points = 8"
   ]
  },
  {
   "cell_type": "markdown",
   "id": "bce3685e",
   "metadata": {
    "deletable": false,
    "id": "mH9KrrwYdv0A",
    "lx_assignment_number": "1",
    "lx_assignment_type": "ASSIGNMENT",
    "lx_assignment_type2print": "Assignment",
    "lx_problem_cell_type": "PROBLEM",
    "lx_problem_number": "4",
    "lx_problem_points": "8"
   },
   "source": [
    "\n",
    "## Students passing exam (Sample exam problem)\n",
    "Let's say we have an exam question which consists of $10$ yes/no questions.\n",
    "From past performance of similar students, a randomly chosen student will know the correct answer to $N \\sim \\text{binom}(10,6/10)$ questions. Furthermore, we assume that the student will guess the answer with equal probability to each question they don't know the answer to, i.e. given $N$ we define $Z \\sim \\text{binom}(10-N,1/2)$ as the number of correctly guessed answers. Define $Y = N + Z$, i.e., $Y$ represents the number of total correct answers.\n",
    "\n",
    "We are interested in setting a deterministic threshold $T$, i.e., we would pass a student at threshold $T$ if $Y \\geq T$. Here $T \\in \\{0,1,2,\\ldots,10\\}$.\n",
    "\n",
    "1. [5p] For each threshold $T$, compute the probability that the student *knows* less than $5$ correct answers given that the student passed, i.e., $N < 5$. Put the answer in `problem11_probabilities` as a list.\n",
    "2. [3p] What is the smallest value of $T$ such that if $Y \\geq T$ then we are 90\\% certain that $N \\geq 5$?"
   ]
  },
  {
   "cell_type": "code",
   "execution_count": 7,
   "id": "536c635d",
   "metadata": {},
   "outputs": [
    {
     "data": {
      "image/png": "[encoded data removed]",
      "text/plain": [
       "<Figure size 1200x600 with 3 Axes>"
      ]
     },
     "metadata": {},
     "output_type": "display_data"
    }
   ],
   "source": [
    "import numpy as np\n",
    "import matplotlib.pyplot as plt\n",
    "from scipy.stats import binom\n",
    "\n",
    "# Parameters\n",
    "n_questions = 10\n",
    "p_know = 6/10\n",
    "p_guess = 1/2\n",
    "\n",
    "# Possible values of N, Z, and Y\n",
    "values_N = np.arange(0, n_questions + 1)\n",
    "values_Z = np.arange(0, n_questions + 1)\n",
    "values_Y = np.arange(0, 2 * n_questions + 1)\n",
    "\n",
    "# Probability distributions\n",
    "pmf_N = binom.pmf(values_N, n_questions, p_know)\n",
    "pmf_Z = binom.pmf(values_Z, n_questions - values_N, p_guess)\n",
    "pmf_Y = np.convolve(pmf_N, pmf_Z, mode='full')\n",
    "\n",
    "# Plotting\n",
    "plt.figure(figsize=(12, 6))\n",
    "\n",
    "plt.subplot(3, 1, 1)\n",
    "plt.bar(values_N, pmf_N, width=0.8, align='center')\n",
    "plt.title('Probability Distribution of N')\n",
    "\n",
    "plt.subplot(3, 1, 2)\n",
    "plt.bar(values_Z, pmf_Z, width=0.8, align='center')\n",
    "plt.title('Probability Distribution of Z')\n",
    "\n",
    "plt.subplot(3, 1, 3)\n",
    "plt.bar(values_Y, pmf_Y[:len(values_Y)], width=0.8, align='center')\n",
    "plt.title('Probability Distribution of Y')\n",
    "\n",
    "plt.tight_layout()\n",
    "plt.show()"
   ]
  },
  {
   "cell_type": "code",
   "execution_count": 1,
   "id": "7aad35bf",
   "metadata": {
    "deletable": false,
    "execution": {
     "iopub.execute_input": "2023-09-30T07:51:09.214192Z",
     "iopub.status.busy": "2023-09-30T07:51:09.213451Z",
     "iopub.status.idle": "2023-09-30T07:51:09.413810Z",
     "shell.execute_reply": "2023-09-30T07:51:09.411887Z"
    },
    "id": "_Mo8Rtz0dv0A",
    "lx_assignment_number": "1",
    "lx_assignment_type": "ASSIGNMENT",
    "lx_assignment_type2print": "Assignment",
    "lx_problem_cell_type": "PROBLEM",
    "lx_problem_number": "4",
    "lx_problem_points": "8"
   },
   "outputs": [],
   "source": [
    "\n",
    "# Hint the PMF of N is p_N(k) where p_N is\n",
    "from scipy.special import binom as binomial\n",
    "p = 6/10\n",
    "p_N = lambda k: binomial(10,k)*((1-p)**(10-k))*((p)**k)\n",
    "p1 = 1/2\n",
    "p_Z = lambda k: binomial(10-known,k)*((1-p1)**(10-known-k))*((p1)**k)"
   ]
  },
  {
   "cell_type": "code",
   "execution_count": 8,
   "id": "df0b323d",
   "metadata": {
    "deletable": false,
    "execution": {
     "iopub.execute_input": "2023-09-30T07:51:09.420657Z",
     "iopub.status.busy": "2023-09-30T07:51:09.420017Z",
     "iopub.status.idle": "2023-09-30T07:51:09.428001Z",
     "shell.execute_reply": "2023-09-30T07:51:09.426998Z"
    },
    "id": "QENkQ5Pudv0B",
    "lx_assignment_number": "1",
    "lx_assignment_type": "ASSIGNMENT",
    "lx_assignment_type2print": "Assignment",
    "lx_problem_cell_type": "PROBLEM",
    "lx_problem_number": "4",
    "lx_problem_points": "8"
   },
   "outputs": [
    {
     "name": "stdout",
     "output_type": "stream",
     "text": [
      "[0.0010814201, 0.003525989000000001, 0.014523082000000005, 0.050279828000000006, 0.12710173600000005, 0.2319081248, 0.313322656, 0.339990848, 0.37093235199999997, 0.540310784, 1.0060466176]\n"
     ]
    }
   ],
   "source": [
    "\n",
    "# Part 1:\n",
    "# replace XXX to represent P(N < 5) for T = [0,1,2,...,10], i.e. your answer should be a list\n",
    "# of length 11.\n",
    "\n",
    "problem11_probabilities = []\n",
    "\n",
    "Y = []\n",
    "for i in range(11):\n",
    "      known = i\n",
    "      Y.append(p_Z(10 - i) + p_N(i))\n",
    "\n",
    "n_less_five = sum([p_N(i) for i in range(5)])\n",
    "\n",
    "for i in range(11):\n",
    "  problem11_probabilities.append((n_less_five*Y[i])/Y[i])\n",
    "\n",
    "print(Y)"
   ]
  },
  {
   "cell_type": "code",
   "execution_count": 6,
   "id": "6367c6f7",
   "metadata": {},
   "outputs": [
    {
     "data": {
      "text/plain": [
       "[0.16623861760000005,\n",
       " 0.16623861760000005,\n",
       " 0.16623861760000005,\n",
       " 0.16623861760000005,\n",
       " 0.16623861760000005,\n",
       " 0.16623861760000005,\n",
       " 0.16623861760000005,\n",
       " 0.16623861760000005,\n",
       " 0.16623861760000005,\n",
       " 0.16623861760000005,\n",
       " 0.16623861760000005]"
      ]
     },
     "execution_count": 6,
     "metadata": {},
     "output_type": "execute_result"
    }
   ],
   "source": [
    "problem11_probabilities"
   ]
  },
  {
   "cell_type": "code",
   "execution_count": 5,
   "id": "f5ab2285",
   "metadata": {
    "deletable": false,
    "execution": {
     "iopub.execute_input": "2023-09-30T07:51:09.432377Z",
     "iopub.status.busy": "2023-09-30T07:51:09.432040Z",
     "iopub.status.idle": "2023-09-30T07:51:10.118249Z",
     "shell.execute_reply": "2023-09-30T07:51:10.117281Z"
    },
    "id": "3n4ZmJZIdv0B",
    "lx_assignment_number": "1",
    "lx_assignment_type": "ASSIGNMENT",
    "lx_assignment_type2print": "Assignment",
    "lx_problem_cell_type": "PROBLEM",
    "lx_problem_number": "4",
    "lx_problem_points": "8"
   },
   "outputs": [
    {
     "ename": "TypeError",
     "evalue": "return arrays must be of ArrayType",
     "output_type": "error",
     "traceback": [
      "\u001b[1;31m---------------------------------------------------------------------------\u001b[0m",
      "\u001b[1;31mTypeError\u001b[0m                                 Traceback (most recent call last)",
      "Cell \u001b[1;32mIn[5], line 7\u001b[0m\n\u001b[0;32m      3\u001b[0m threshold_for_90_percent_certainty \u001b[38;5;241m=\u001b[39m \u001b[38;5;28;01mNone\u001b[39;00m\n\u001b[0;32m      5\u001b[0m \u001b[38;5;28;01mfor\u001b[39;00m T \u001b[38;5;129;01min\u001b[39;00m \u001b[38;5;28mrange\u001b[39m(\u001b[38;5;241m11\u001b[39m):\n\u001b[0;32m      6\u001b[0m     \u001b[38;5;66;03m# Calculate the conditional probability P(N ≥ 5 | Y ≥ T)\u001b[39;00m\n\u001b[1;32m----> 7\u001b[0m     conditional_prob_N_ge_5 \u001b[38;5;241m=\u001b[39m \u001b[38;5;28msum\u001b[39m([binomial(k, \u001b[38;5;241m10\u001b[39m, \u001b[38;5;241m6\u001b[39m\u001b[38;5;241m/\u001b[39m\u001b[38;5;241m10\u001b[39m) \u001b[38;5;28;01mfor\u001b[39;00m k \u001b[38;5;129;01min\u001b[39;00m \u001b[38;5;28mrange\u001b[39m(\u001b[38;5;241m5\u001b[39m, \u001b[38;5;241m11\u001b[39m)])\n\u001b[0;32m      8\u001b[0m     conditional_prob_Y_ge_T \u001b[38;5;241m=\u001b[39m \u001b[38;5;28msum\u001b[39m([binomial(Y, \u001b[38;5;241m10\u001b[39m, \u001b[38;5;241m6\u001b[39m\u001b[38;5;241m/\u001b[39m\u001b[38;5;241m10\u001b[39m) \u001b[38;5;28;01mfor\u001b[39;00m Y \u001b[38;5;129;01min\u001b[39;00m \u001b[38;5;28mrange\u001b[39m(T, \u001b[38;5;241m11\u001b[39m)])\n\u001b[0;32m     10\u001b[0m     \u001b[38;5;28;01mif\u001b[39;00m conditional_prob_N_ge_5 \u001b[38;5;241m>\u001b[39m\u001b[38;5;241m=\u001b[39m \u001b[38;5;241m0.9\u001b[39m \u001b[38;5;241m*\u001b[39m conditional_prob_Y_ge_T:\n",
      "Cell \u001b[1;32mIn[5], line 7\u001b[0m, in \u001b[0;36m<listcomp>\u001b[1;34m(.0)\u001b[0m\n\u001b[0;32m      3\u001b[0m threshold_for_90_percent_certainty \u001b[38;5;241m=\u001b[39m \u001b[38;5;28;01mNone\u001b[39;00m\n\u001b[0;32m      5\u001b[0m \u001b[38;5;28;01mfor\u001b[39;00m T \u001b[38;5;129;01min\u001b[39;00m \u001b[38;5;28mrange\u001b[39m(\u001b[38;5;241m11\u001b[39m):\n\u001b[0;32m      6\u001b[0m     \u001b[38;5;66;03m# Calculate the conditional probability P(N ≥ 5 | Y ≥ T)\u001b[39;00m\n\u001b[1;32m----> 7\u001b[0m     conditional_prob_N_ge_5 \u001b[38;5;241m=\u001b[39m \u001b[38;5;28msum\u001b[39m([\u001b[43mbinomial\u001b[49m\u001b[43m(\u001b[49m\u001b[43mk\u001b[49m\u001b[43m,\u001b[49m\u001b[43m \u001b[49m\u001b[38;5;241;43m10\u001b[39;49m\u001b[43m,\u001b[49m\u001b[43m \u001b[49m\u001b[38;5;241;43m6\u001b[39;49m\u001b[38;5;241;43m/\u001b[39;49m\u001b[38;5;241;43m10\u001b[39;49m\u001b[43m)\u001b[49m \u001b[38;5;28;01mfor\u001b[39;00m k \u001b[38;5;129;01min\u001b[39;00m \u001b[38;5;28mrange\u001b[39m(\u001b[38;5;241m5\u001b[39m, \u001b[38;5;241m11\u001b[39m)])\n\u001b[0;32m      8\u001b[0m     conditional_prob_Y_ge_T \u001b[38;5;241m=\u001b[39m \u001b[38;5;28msum\u001b[39m([binomial(Y, \u001b[38;5;241m10\u001b[39m, \u001b[38;5;241m6\u001b[39m\u001b[38;5;241m/\u001b[39m\u001b[38;5;241m10\u001b[39m) \u001b[38;5;28;01mfor\u001b[39;00m Y \u001b[38;5;129;01min\u001b[39;00m \u001b[38;5;28mrange\u001b[39m(T, \u001b[38;5;241m11\u001b[39m)])\n\u001b[0;32m     10\u001b[0m     \u001b[38;5;28;01mif\u001b[39;00m conditional_prob_N_ge_5 \u001b[38;5;241m>\u001b[39m\u001b[38;5;241m=\u001b[39m \u001b[38;5;241m0.9\u001b[39m \u001b[38;5;241m*\u001b[39m conditional_prob_Y_ge_T:\n",
      "\u001b[1;31mTypeError\u001b[0m: return arrays must be of ArrayType"
     ]
    }
   ],
   "source": [
    "\n",
    "# Part 2: Give an integer between 0 and 10 which is the answer to 2.\n",
    "\n",
    "threshold_for_90_percent_certainty = None\n",
    "\n",
    "for T in range(11):\n",
    "    # Calculate the conditional probability P(N ≥ 5 | Y ≥ T)\n",
    "    conditional_prob_N_ge_5 = sum([binomial(k, 10, 6/10) for k in range(5, 11)])\n",
    "    conditional_prob_Y_ge_T = sum([binomial(Y, 10, 6/10) for Y in range(T, 11)])\n",
    "\n",
    "    if conditional_prob_N_ge_5 >= 0.9 * conditional_prob_Y_ge_T:\n",
    "        threshold_for_90_percent_certainty = T\n",
    "        break"
   ]
  },
  {
   "cell_type": "code",
   "execution_count": 14,
   "id": "6f8629c7",
   "metadata": {
    "deletable": false,
    "execution": {
     "iopub.execute_input": "2023-09-30T07:51:10.122719Z",
     "iopub.status.busy": "2023-09-30T07:51:10.122393Z",
     "iopub.status.idle": "2023-09-30T07:51:10.136186Z",
     "shell.execute_reply": "2023-09-30T07:51:10.135362Z"
    },
    "lx_assignment_number": "1",
    "lx_assignment_type": "ASSIGNMENT",
    "lx_assignment_type2print": "Assignment",
    "lx_problem_cell_type": "TEST",
    "lx_problem_number": "4",
    "lx_problem_points": "8",
    "lx_test_only": "True"
   },
   "outputs": [
    {
     "name": "stdout",
     "output_type": "stream",
     "text": [
      "Beginning tests for PROBLEM 4\n",
      "\n",
      "Your answers for problem11_probabilities differed on 6 number of positions by more than 10^(-3)\n",
      "name 'problem12_T' is not defined\n",
      "name 'problem12_T' is not defined\n",
      "\n",
      "The number of points you have scored for this problem is 5 out of 8\n",
      "The number of points you have accumulated thus far is   12 out of 16\n"
     ]
    }
   ],
   "source": []
  },
  {
   "cell_type": "markdown",
   "id": "b412da9c",
   "metadata": {
    "deletable": false,
    "id": "L15T8gSLdv0B",
    "lx_assignment_number": "1",
    "lx_assignment_type": "ASSIGNMENT",
    "lx_assignment_type2print": "Assignment",
    "lx_problem_cell_type": "PROBLEM",
    "lx_problem_number": "5",
    "lx_problem_points": "8"
   },
   "source": [
    "---\n",
    "## Assignment 1, PROBLEM 5\n",
    "Maximum Points = 8"
   ]
  },
  {
   "cell_type": "markdown",
   "id": "bb8a352e",
   "metadata": {
    "deletable": false,
    "id": "eL-ED4uWdv0B",
    "lx_assignment_number": "1",
    "lx_assignment_type": "ASSIGNMENT",
    "lx_assignment_type2print": "Assignment",
    "lx_problem_cell_type": "PROBLEM",
    "lx_problem_number": "5",
    "lx_problem_points": "8"
   },
   "source": [
    "\n",
    "## Concentration of measure (Sample exam problem)\n",
    "\n",
    "As you recall, we said that concentration of measure was simply the phenomenon where we expect that the probability of a large deviation of some quantity becoming smaller as we observe more samples: [0.4 points per correct answer]\n",
    "\n",
    "1. Which of the following will exponentially concentrate, i.e. for some $C_1,C_2,C_3,C_4 $\n",
    "$$\n",
    "    P(Z - \\mathbb{E}[Z] \\geq \\epsilon) \\leq C_1 e^{-C_2 n \\epsilon^2} \\wedge C_3 e^{-C_4 n (\\epsilon+1)} \\enspace .\n",
    "$$\n",
    "\n",
    "    1. The empirical variance of i.i.d. random variables with finite mean?\n",
    "    2. The empirical variance of i.i.d. sub-Gaussian random variables?\n",
    "    3. The empirical variance of i.i.d. sub-Exponential random variables?\n",
    "    4. The empirical mean of i.i.d. sub-Gaussian random variables?\n",
    "    5. The empirical mean of i.i.d. sub-Exponential random variables?\n",
    "    6. The empirical mean of i.i.d. random variables with finite variance?\n",
    "    7. The empirical third moment of i.i.d. random variables with finite sixth moment?\n",
    "    8. The empirical fourth moment of i.i.d. sub-Gaussian random variables?\n",
    "    9. The empirical mean of i.i.d. deterministic random variables?\n",
    "    10. The empirical tenth moment of i.i.d. Bernoulli random variables?\n",
    "\n",
    "2. Which of the above will concentrate in the weaker sense, that for some $C_1$\n",
    "$$\n",
    "    P(Z - \\mathbb{E}[Z] \\geq \\epsilon) \\leq \\frac{C_1}{n \\epsilon^2}?\n",
    "$$"
   ]
  },
  {
   "cell_type": "code",
   "execution_count": 15,
   "id": "8bc47857",
   "metadata": {
    "deletable": false,
    "execution": {
     "iopub.execute_input": "2023-09-30T07:51:10.141048Z",
     "iopub.status.busy": "2023-09-30T07:51:10.140726Z",
     "iopub.status.idle": "2023-09-30T07:51:10.144919Z",
     "shell.execute_reply": "2023-09-30T07:51:10.144083Z"
    },
    "id": "ts3inBqndv0C",
    "lx_assignment_number": "1",
    "lx_assignment_type": "ASSIGNMENT",
    "lx_assignment_type2print": "Assignment",
    "lx_problem_cell_type": "PROBLEM",
    "lx_problem_number": "5",
    "lx_problem_points": "8"
   },
   "outputs": [],
   "source": [
    "\n",
    "# Answers to part 1, which of the alternatives exponentially concentrate, answer as a list\n",
    "# i.e. [1,4,5] that is example 1, 4, and 5 concentrate\n",
    "problem3_answer_1 = [1,2,3,4,5,6,7,8]"
   ]
  },
  {
   "cell_type": "code",
   "execution_count": 16,
   "id": "f3af637e",
   "metadata": {
    "deletable": false,
    "execution": {
     "iopub.execute_input": "2023-09-30T07:51:10.149062Z",
     "iopub.status.busy": "2023-09-30T07:51:10.148689Z",
     "iopub.status.idle": "2023-09-30T07:51:10.152735Z",
     "shell.execute_reply": "2023-09-30T07:51:10.151844Z"
    },
    "id": "jUhKdcF0dv0C",
    "lx_assignment_number": "1",
    "lx_assignment_type": "ASSIGNMENT",
    "lx_assignment_type2print": "Assignment",
    "lx_problem_cell_type": "PROBLEM",
    "lx_problem_number": "5",
    "lx_problem_points": "8"
   },
   "outputs": [],
   "source": [
    "\n",
    "# Answers to part 2, which of the alternatives concentrate in the weaker sense, answer as a list\n",
    "# i.e. [1,4,5] that is example 1, 4, and 5 concentrate\n",
    "problem3_answer_2 = []"
   ]
  },
  {
   "cell_type": "code",
   "execution_count": 17,
   "id": "8e1b0ad0",
   "metadata": {
    "deletable": false,
    "execution": {
     "iopub.execute_input": "2023-09-30T07:51:10.156686Z",
     "iopub.status.busy": "2023-09-30T07:51:10.156217Z",
     "iopub.status.idle": "2023-09-30T07:51:10.173484Z",
     "shell.execute_reply": "2023-09-30T07:51:10.172805Z"
    },
    "lx_assignment_number": "1",
    "lx_assignment_type": "ASSIGNMENT",
    "lx_assignment_type2print": "Assignment",
    "lx_problem_cell_type": "TEST",
    "lx_problem_number": "5",
    "lx_problem_points": "8",
    "lx_test_only": "True"
   },
   "outputs": [
    {
     "name": "stdout",
     "output_type": "stream",
     "text": [
      "Beginning tests for PROBLEM 5\n",
      "\n",
      "Correct answers for part1: 3\n",
      "Correct answers for part2: 1\n",
      "\n",
      "The number of points you have scored for this problem is 2 out of 8\n",
      " \n",
      " \n",
      " \n",
      "The number of points you have scored in total for this entire set of Problems is 14 out of 24\n"
     ]
    }
   ],
   "source": []
  }
 ],
 "metadata": {
  "kernelspec": {
   "display_name": "Python 3",
   "language": "python",
   "name": "python3"
  },
  "language_info": {
   "codemirror_mode": {
    "name": "ipython",
    "version": 3
   },
   "file_extension": ".py",
   "mimetype": "text/x-python",
   "name": "python",
   "nbconvert_exporter": "python",
   "pygments_lexer": "ipython3",
   "version": "3.9.6"
  },
  "lx_assignment_number": 1,
  "lx_course_instance": "2023",
  "lx_course_name": "Introduction to Data Science",
  "lx_course_number": "1MS041"
 },
 "nbformat": 4,
 "nbformat_minor": 5
}
