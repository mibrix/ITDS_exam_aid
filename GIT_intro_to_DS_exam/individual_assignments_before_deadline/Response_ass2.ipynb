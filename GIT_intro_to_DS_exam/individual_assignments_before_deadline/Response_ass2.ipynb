{
 "cells": [
  {
   "cell_type": "markdown",
   "id": "97d771c1",
   "metadata": {
    "deletable": false
   },
   "source": [
    "# Assignment 2 for Course 1MS041\n",
    "Make         sure you pass the `# ... Test` cells and\n",
    " submit your solution notebook in the corresponding assignment on the course website. You can submit multiple times before the deadline         and your highest score will be used."
   ]
  },
  {
   "cell_type": "markdown",
   "id": "8a32cf20",
   "metadata": {
    "deletable": false,
    "id": "nxBg9XEPn2Io",
    "lx_assignment_number": "2",
    "lx_assignment_type": "ASSIGNMENT",
    "lx_assignment_type2print": "Assignment",
    "lx_problem_cell_type": "PROBLEM",
    "lx_problem_number": "1",
    "lx_problem_points": "8"
   },
   "source": [
    "---\n",
    "## Assignment 2, PROBLEM 1\n",
    "Maximum Points = 8"
   ]
  },
  {
   "cell_type": "markdown",
   "id": "901dbf8b",
   "metadata": {
    "deletable": false,
    "id": "4z5_u8cLn2Ip",
    "lx_assignment_number": "2",
    "lx_assignment_type": "ASSIGNMENT",
    "lx_assignment_type2print": "Assignment",
    "lx_problem_cell_type": "PROBLEM",
    "lx_problem_number": "1",
    "lx_problem_points": "8"
   },
   "source": [
    "\n",
    "A courier company operates a fleet of delivery trucks that make deliveries to different parts of the city. The trucks are equipped with GPS tracking devices that record the location of each truck at regular intervals. The locations are divided into three regions: downtown, the suburbs, and the countryside. The following table shows the probabilities of a truck transitioning between these regions at each time step:\n",
    "\n",
    "| Current region | Probability of transitioning to downtown | Probability of transitioning to the suburbs | Probability of transitioning to the countryside |\n",
    "|----------------|--------------------------------------------|-----------------------------------------------|------------------------------------------------|\n",
    "| Downtown       | 0.3                                      | 0.4                                           | 0.3                                            |\n",
    "| Suburbs        | 0.2                                      | 0.5                                           | 0.3                                            |\n",
    "| Countryside    | 0.4                                      | 0.3                                           | 0.3                                            |\n",
    "\n",
    "1. If a truck is currently in the suburbs, what is the probability that it will be in the downtown region after two time steps? [1.5p]\n",
    "2. If a truck is currently in the suburbs, what is the probability that it will be in the downtown region **the first time** after two time steps? [1.5p]\n",
    "3. Is this Markov chain irreducible? [1.5p]\n",
    "4. What is the stationary distribution? [1.5p]\n",
    "5. Advanced question: What is the expected number of steps until the first time one enters the downtown region having started in the suburbs region. Hint: to get within 1 decimal point, it is enough to compute the probabilities for hitting times below 30. [2p]\n",
    "\n"
   ]
  },
  {
   "cell_type": "code",
   "execution_count": 1,
   "id": "38a3d863",
   "metadata": {
    "deletable": false,
    "execution": {
     "iopub.execute_input": "2023-11-10T23:08:56.243215Z",
     "iopub.status.busy": "2023-11-10T23:08:56.241740Z",
     "iopub.status.idle": "2023-11-10T23:08:56.265141Z",
     "shell.execute_reply": "2023-11-10T23:08:56.263139Z"
    },
    "id": "eLrOEahrn2Ip",
    "lx_assignment_number": "2",
    "lx_assignment_type": "ASSIGNMENT",
    "lx_assignment_type2print": "Assignment",
    "lx_problem_cell_type": "PROBLEM",
    "lx_problem_number": "1",
    "lx_problem_points": "14"
   },
   "outputs": [],
   "source": [
    "# Part 1\n",
    "\n",
    "# Fill in the answer to part 1 below as a decimal number\n",
    "problem1_p1 = (0.5 * 0.2) + (0.3 * 0.4) + (0.2 * 0.3)"
   ]
  },
  {
   "cell_type": "code",
   "execution_count": 2,
   "id": "33b45f4d",
   "metadata": {
    "deletable": false,
    "execution": {
     "iopub.execute_input": "2023-11-10T23:08:56.273298Z",
     "iopub.status.busy": "2023-11-10T23:08:56.272554Z",
     "iopub.status.idle": "2023-11-10T23:08:56.281607Z",
     "shell.execute_reply": "2023-11-10T23:08:56.279548Z"
    },
    "id": "CIAlLmWCn2Ir",
    "lx_assignment_number": "2",
    "lx_assignment_type": "ASSIGNMENT",
    "lx_assignment_type2print": "Assignment",
    "lx_problem_cell_type": "PROBLEM",
    "lx_problem_number": "1",
    "lx_problem_points": "14"
   },
   "outputs": [],
   "source": [
    "# Part 2\n",
    "\n",
    "# Fill in the answer to part 2 below as a decimal number\n",
    "problem1_p2 = (0.5 * 0.2) + (0.3 * 0.4)"
   ]
  },
  {
   "cell_type": "code",
   "execution_count": 3,
   "id": "3ec21e92",
   "metadata": {
    "deletable": false,
    "execution": {
     "iopub.execute_input": "2023-11-10T23:08:56.288137Z",
     "iopub.status.busy": "2023-11-10T23:08:56.287727Z",
     "iopub.status.idle": "2023-11-10T23:08:56.292603Z",
     "shell.execute_reply": "2023-11-10T23:08:56.291584Z"
    },
    "id": "lH57mZX6n2Ir",
    "lx_assignment_number": "2",
    "lx_assignment_type": "ASSIGNMENT",
    "lx_assignment_type2print": "Assignment",
    "lx_problem_cell_type": "PROBLEM",
    "lx_problem_number": "1",
    "lx_problem_points": "14"
   },
   "outputs": [],
   "source": [
    "# Part 3\n",
    "\n",
    "# Fill in the answer to part 3 below as a boolean\n",
    "problem1_irreducible = True"
   ]
  },
  {
   "cell_type": "code",
   "execution_count": 8,
   "id": "a4589b6f",
   "metadata": {
    "colab": {
     "base_uri": "https://localhost:8080/"
    },
    "deletable": false,
    "execution": {
     "iopub.execute_input": "2023-11-10T23:08:56.297107Z",
     "iopub.status.busy": "2023-11-10T23:08:56.296787Z",
     "iopub.status.idle": "2023-11-10T23:08:56.448346Z",
     "shell.execute_reply": "2023-11-10T23:08:56.447504Z"
    },
    "id": "QJF0RX0dn2Ir",
    "lx_assignment_number": "2",
    "lx_assignment_type": "ASSIGNMENT",
    "lx_assignment_type2print": "Assignment",
    "lx_problem_cell_type": "PROBLEM",
    "lx_problem_number": "1",
    "lx_problem_points": "14",
    "outputId": "1864101d-7c14-41fc-cb6d-7ba29d2a08ab"
   },
   "outputs": [
    {
     "name": "stdout",
     "output_type": "stream",
     "text": [
      "[0.28888889 0.41111111 0.3       ]\n"
     ]
    }
   ],
   "source": [
    "# Part 4\n",
    "\n",
    "# Fill in the answer to part 4 below\n",
    "# the answer should be a numpy array of length 3\n",
    "# make sure that the entries sums to 1!\n",
    "import numpy as np\n",
    "\n",
    "A = np.array([[-0.7, 0.2, 0.4], [0.4, -0.5, 0.3], [0.3, 0.3, -0.7], [1,1,1]])\n",
    "b = np.array([0, 0, 0, 1])\n",
    "solution, residuals, rank, singular_values = np.linalg.lstsq(A, b, rcond=None)\n",
    "print(solution)\n",
    "problem1_stationary = solution"
   ]
  },
  {
   "cell_type": "code",
   "execution_count": 5,
   "id": "0b8b2f8d",
   "metadata": {
    "deletable": false,
    "execution": {
     "iopub.execute_input": "2023-11-10T23:08:56.452958Z",
     "iopub.status.busy": "2023-11-10T23:08:56.452466Z",
     "iopub.status.idle": "2023-11-10T23:08:56.456974Z",
     "shell.execute_reply": "2023-11-10T23:08:56.456079Z"
    },
    "id": "Wh3qUk42n2Is",
    "lx_assignment_number": "2",
    "lx_assignment_type": "ASSIGNMENT",
    "lx_assignment_type2print": "Assignment",
    "lx_problem_cell_type": "PROBLEM",
    "lx_problem_number": "1",
    "lx_problem_points": "14"
   },
   "outputs": [],
   "source": [
    "# Part 5\n",
    "\n",
    "# Fill in the answer to part 5 below\n",
    "# That is, the expected number of steps as a decimal number\n",
    "#problem1_ET = XXX"
   ]
  },
  {
   "cell_type": "code",
   "execution_count": 6,
   "id": "1c19b6e5",
   "metadata": {
    "deletable": false,
    "execution": {
     "iopub.execute_input": "2023-11-10T23:08:56.461293Z",
     "iopub.status.busy": "2023-11-10T23:08:56.460899Z",
     "iopub.status.idle": "2023-11-10T23:08:56.474117Z",
     "shell.execute_reply": "2023-11-10T23:08:56.473194Z"
    },
    "lx_assignment_number": "2",
    "lx_assignment_type": "ASSIGNMENT",
    "lx_assignment_type2print": "Assignment",
    "lx_problem_cell_type": "TEST",
    "lx_problem_number": "1",
    "lx_problem_points": "14",
    "lx_test_only": "True"
   },
   "outputs": [
    {
     "name": "stdout",
     "output_type": "stream",
     "text": [
      "Beginning tests for PROBLEM 3\n",
      "\n",
      "---------------------------------\n",
      "Beginning test for part1\n",
      "---------------------------------\n",
      "\n",
      "-----Beginning test------\n",
      "Your probability is correct!\n",
      "-----Ending test---------\n",
      "\n",
      "---------------------------------\n",
      "Beginning test for part2\n",
      "---------------------------------\n",
      "\n",
      "-----Beginning test------\n",
      "Your probability is correct!\n",
      "-----Ending test---------\n",
      "\n",
      "---------------------------------\n",
      "Beginning test for part3\n",
      "---------------------------------\n",
      "\n",
      "-----Beginning test------\n",
      "Your answer is correct\n",
      "-----Ending test---------\n",
      "\n",
      "---------------------------------\n",
      "Beginning test for part4\n",
      "---------------------------------\n",
      "\n",
      "-----Beginning test------\n",
      "Your stationary distribution is within distance 0.01 from the true stationary distribution\n",
      "-----Ending test---------\n",
      "\n",
      "---------------------------------\n",
      "Beginning test for part5\n",
      "---------------------------------\n",
      "\n",
      "-----Beginning test------\n",
      "name 'problem1_ET' is not defined\n",
      "You are not within 0.05 from the actual answer which is roughly 3\n",
      "You got 2.0 points deduction \n",
      "-----Ending test---------\n",
      "\n",
      "\n",
      "All tests complete, you got = 6 points\n",
      "The number of points you have scored for this problem is 6 out of 8\n",
      "The number of points you have accumulated thus far is   6 out of 8\n"
     ]
    }
   ],
   "source": []
  },
  {
   "cell_type": "markdown",
   "id": "817c063b",
   "metadata": {
    "deletable": false,
    "id": "J78DKGF1n2Is",
    "lx_assignment_number": "2",
    "lx_assignment_type": "ASSIGNMENT",
    "lx_assignment_type2print": "Assignment",
    "lx_problem_cell_type": "PROBLEM",
    "lx_problem_number": "2",
    "lx_problem_points": "8"
   },
   "source": [
    "---\n",
    "## Assignment 2, PROBLEM 2\n",
    "Maximum Points = 8"
   ]
  },
  {
   "cell_type": "markdown",
   "id": "cc87570e",
   "metadata": {
    "deletable": false,
    "id": "hiUdHLbrn2It",
    "lx_assignment_number": "2",
    "lx_assignment_type": "ASSIGNMENT",
    "lx_assignment_type2print": "Assignment",
    "lx_problem_cell_type": "PROBLEM",
    "lx_problem_number": "2",
    "lx_problem_points": "8"
   },
   "source": [
    "\n",
    "A healthcare organization is interested in understanding the relationship between the number of visits to the doctors office and certain patient characteristics.\n",
    "They have collected data on the number of visits (for a year) for a sample of patients and have included the following variables\n",
    "\n",
    "* ofp : number of physician office visits\n",
    "* ofnp : number of nonphysician office visits\n",
    "* opp : number of physician outpatient visits\n",
    "* opnp : number of nonphysician outpatient visits\n",
    "* emr : number of emergency room visits\n",
    "* hosp : number of hospitalizations\n",
    "* exclhlth : the person is of excellent health (self-perceived)\n",
    "* poorhealth : the person is of poor health (self-perceived)\n",
    "* numchron : number of chronic conditions\n",
    "* adldiff : the person has a condition that limits activities of daily living ?\n",
    "* noreast : the person is from the north east region\n",
    "* midwest : the person is from the midwest region\n",
    "* west : the person is from the west region\n",
    "* age : age in years (divided by 10)\n",
    "* male : is the person male ?\n",
    "* married : is the person married ?\n",
    "* school : number of years of education\n",
    "* faminc : family income in 10000$\n",
    "* employed : is the person employed ?\n",
    "* privins : is the person covered by private health insurance?\n",
    "* medicaid : is the person covered by medicaid ?\n",
    "\n",
    "Decide which patient features are resonable to use to predict the target \"number of physician office visits\". Hint: should we really use the \"ofnp\" etc variables?\n",
    "\n",
    "Since the target variable is counts, a reasonable loss function is to consider the target variable as Poisson distributed where the parameter follows $\\lambda = \\exp(\\alpha \\cdot x + \\beta)$ where $\\alpha$ is a vector (slope) and $\\beta$ is a number (intercept). That is, the parameter is the exponential of a linear function. The reason we chose this as our parameter, is that it is always positive which is when the Poisson distribution is defined. To be specific we make the following assumption about our conditional density of $Y \\mid X$,\n",
    "$$\n",
    "    f_{Y \\mid X} (y,x) = \\frac{\\lambda^{y} e^{-\\lambda}}{y !}, \\quad \\lambda(x) = \\exp(\\alpha \\cdot x + \\beta).\n",
    "$$\n",
    "\n",
    "Recall from the lecture notes, (4.2) that in this case we should consider the log-loss (entropy) and that according to (4.2.1 Maximum Likelihood and regression) we can consider the conditional log-likelihood. Follow the steps of Example 1 and Example 2 in section (4.2) to derive the loss that needs to be minimized.\n",
    "\n",
    "Hint: when taking the log of the conditional density you will find that the term that contains the $y!$ does not depend on $\\lambda$ and as such does not depend on $\\alpha,\\beta$, it can thus be discarded. This will be essential due to numerical issues with factorials.\n",
    "\n",
    "Instructions:\n",
    "\n",
    "1. Load the file `data/visits_clean.csv`, follow the instructions in the code cell of how this should happen [1.5p]\n",
    "2. Create the `problem2_X` and the `problem2_y` as numpy arrays with `problem2_X` being the features and `problem2_y` being the target. Do the standard train-test split with 80% training data and 20% testing data. Store these in the variables defined in the cells. [1.5p]\n",
    "3. Implement $loss$ inside the class `PoissonRegression` by writing down the loss to be minimized, I have provided a formula for the $\\lambda$ that you can use. [1.5p]\n",
    "4. Now use the `PoissonRegression` class to train a Poisson regression model on the training data. [1.5p]\n",
    "5. Compute the mean absolute error of your prediction on the test set and use Hoeffdings inequality to produce a 95\\% confidence interval for the mean absolute error. We can make the assumption that the error is bounded by 70 for simplicity. [2p]\n"
   ]
  },
  {
   "cell_type": "code",
   "execution_count": 7,
   "id": "86bdff86",
   "metadata": {
    "deletable": false,
    "execution": {
     "iopub.execute_input": "2023-11-10T23:08:56.479274Z",
     "iopub.status.busy": "2023-11-10T23:08:56.478878Z",
     "iopub.status.idle": "2023-11-10T23:08:56.507586Z",
     "shell.execute_reply": "2023-11-10T23:08:56.506768Z"
    },
    "id": "zufZX51Fn2It",
    "lx_assignment_number": "2",
    "lx_assignment_type": "ASSIGNMENT",
    "lx_assignment_type2print": "Assignment",
    "lx_problem_cell_type": "PROBLEM",
    "lx_problem_number": "2",
    "lx_problem_points": "8"
   },
   "outputs": [],
   "source": [
    "# Part 1\n",
    "\n",
    "# As in assignment 1 we will load the header into header and data into data\n",
    "# this time you will have to parse the data such that each data entry is a float\n",
    "# and that the problem2_data is a numpy array of shape (n_samples,n_columns)\n",
    "# where n_columns is the number of columns and should have the same length as\n",
    "# the list of strings header. n_samples is how many rows of data we had.\n",
    "# If you cannot find the file, check the starting package as it should be updated\n",
    "# if not, go to the github repo and pull it\n",
    "\n",
    "# The autograder does not accept pandas as a solution to this problem.\n",
    "# data/visits_clean.csv\n",
    "\n",
    "import numpy as np\n",
    "#%cd data\n",
    "temp = []\n",
    "with open('data/visits_clean.csv', 'r') as filee:\n",
    "  for n,line in enumerate(filee):\n",
    "    if n == 0:\n",
    "      problem2_header = line.split()\n",
    "    else:\n",
    "      temp.append(line.split())\n",
    "\n",
    "problem2_data = np.array(temp, dtype=float) #A numpy array of shape n_samples n_columns"
   ]
  },
  {
   "cell_type": "code",
   "execution_count": 8,
   "id": "1ee3f53d",
   "metadata": {
    "colab": {
     "base_uri": "https://localhost:8080/"
    },
    "deletable": false,
    "execution": {
     "iopub.execute_input": "2023-11-10T23:08:56.511995Z",
     "iopub.status.busy": "2023-11-10T23:08:56.511536Z",
     "iopub.status.idle": "2023-11-10T23:08:56.540359Z",
     "shell.execute_reply": "2023-11-10T23:08:56.539463Z"
    },
    "id": "uQOyIWEGn2It",
    "lx_assignment_number": "2",
    "lx_assignment_type": "ASSIGNMENT",
    "lx_assignment_type2print": "Assignment",
    "lx_problem_cell_type": "PROBLEM",
    "lx_problem_number": "2",
    "lx_problem_points": "8",
    "outputId": "6417d06f-af1f-485f-9804-ea569f977949"
   },
   "outputs": [
    {
     "name": "stderr",
     "output_type": "stream",
     "text": [
      "/tmp/ipykernel_35/454687026.py:17: VisibleDeprecationWarning: Creating an ndarray from ragged nested sequences (which is a list-or-tuple of lists-or-tuples-or ndarrays with different lengths or shapes) is deprecated. If you meant to do this, you must specify 'dtype=object' when creating the ndarray.\n",
      "  shuffled = np.array(list(zip(problem2_X, problem2_y)))\n"
     ]
    }
   ],
   "source": [
    "# Part 2\n",
    "#print(problem2_header[6])\n",
    "\n",
    "# Fill in your X and y below\n",
    "problem2_X = np.array([i[6:7] for i in problem2_data])\n",
    "problem2_y = np.array([i[0] for i in problem2_data])\n",
    "\n",
    "# Split the data into train and randomly using for instance\n",
    "# np.random.shuffle indices and indexing the first 80% as the train data\n",
    "# keep the train size as 0.8 rounded up to the nearest integer sample\n",
    "\n",
    "train_num = round(len(problem2_X)*0.8)\n",
    "test_num = round(len(problem2_y)*0.2)\n",
    "\n",
    "#print(train_num)#\n",
    "\n",
    "shuffled = np.array(list(zip(problem2_X, problem2_y)))\n",
    "np.random.shuffle(shuffled)\n",
    "\n",
    "problem2_X_train = np.array([i[0] for i in shuffled[:train_num]])\n",
    "problem2_X_test = np.array([i[0] for i in shuffled[train_num:]])\n",
    "problem2_y_train = np.array([i[1] for i in shuffled[:train_num]])\n",
    "problem2_y_test = np.array([i[1] for i in shuffled[train_num:]])\n",
    "\n",
    "#print(problem2_X_train)\n",
    "#print(problem2_X_test)\n",
    "# print(problem2_y_train)\n",
    "# print(problem2_y_test)"
   ]
  },
  {
   "cell_type": "code",
   "execution_count": 9,
   "id": "d24a5664",
   "metadata": {
    "deletable": false,
    "execution": {
     "iopub.execute_input": "2023-11-10T23:08:56.544479Z",
     "iopub.status.busy": "2023-11-10T23:08:56.544142Z",
     "iopub.status.idle": "2023-11-10T23:08:56.553689Z",
     "shell.execute_reply": "2023-11-10T23:08:56.552754Z"
    },
    "id": "QIcbbeQjn2It",
    "lx_assignment_number": "2",
    "lx_assignment_type": "ASSIGNMENT",
    "lx_assignment_type2print": "Assignment",
    "lx_problem_cell_type": "PROBLEM",
    "lx_problem_number": "2",
    "lx_problem_points": "8"
   },
   "outputs": [],
   "source": [
    "import math\n",
    "# Part 3\n",
    "\n",
    "# Fill in the function loss below\n",
    "\n",
    "class PoissonRegression(object):\n",
    "    def __init__(self):\n",
    "        self.coeffs = None\n",
    "        self.result = None\n",
    "\n",
    "    # define the objective/cost/loss function we want to minimise\n",
    "    def loss(self,X,Y,coeffs):\n",
    "        # The parameter lambda for the given X and the proposed values\n",
    "        # of the coefficients, here coeff[:-1] represent alpha\n",
    "        # and coeff[-1] represent beta\n",
    "                # Compute the Poisson loss\n",
    "        lambda_values = np.exp(np.dot(X, coeffs[:-1]) + coeffs[-1])\n",
    "        loss = np.sum(lambda_values - Y * (np.log(lambda_values)))\n",
    "\n",
    "\n",
    "        # use the Y variable that is available here to define\n",
    "        # the loss function, return the value of the loss for\n",
    "        # this Y and for this parameter lam defined above\n",
    "        return loss\n",
    "\n",
    "    def fit(self,X,Y):\n",
    "        import numpy as np\n",
    "        from scipy import optimize\n",
    "\n",
    "        #Use the loss above together with an optimization method from scipy\n",
    "        #to find the coefficients of the model\n",
    "        #this is prepared for you below\n",
    "        opt_loss = lambda coeffs: self.loss(X,Y,coeffs)\n",
    "        print(X.shape)\n",
    "        initial_arguments = np.zeros(shape=X.shape[1]+1) # initial guess as 0\n",
    "        self.result = optimize.minimize(opt_loss, initial_arguments,method='cg')\n",
    "        self.coeffs = self.result.x\n",
    "\n",
    "    def predict(self,X):\n",
    "        #Use the trained model to predict Y\n",
    "        if (self.coeffs is not None):\n",
    "            return np.exp(np.dot(X,self.coeffs[:-1])+self.coeffs[-1])"
   ]
  },
  {
   "cell_type": "code",
   "execution_count": null,
   "id": "c0fea8d1",
   "metadata": {},
   "outputs": [],
   "source": [
    "# poisson loss https://discuss.pytorch.org/t/poisson-loss-function/44301/5\n",
    "# https://en.wikipedia.org/wiki/Poisson_regression\n",
    "def poissonLoss(xbeta, y):\n",
    "    \"\"\"Custom loss function for Poisson model.\"\"\"\n",
    "    loss=torch.mean(torch.exp(xbeta)-y*xbeta)\n",
    "    return loss"
   ]
  },
  {
   "cell_type": "code",
   "execution_count": 10,
   "id": "65ca9b2f",
   "metadata": {
    "colab": {
     "base_uri": "https://localhost:8080/"
    },
    "deletable": false,
    "execution": {
     "iopub.execute_input": "2023-11-10T23:08:56.557440Z",
     "iopub.status.busy": "2023-11-10T23:08:56.557053Z",
     "iopub.status.idle": "2023-11-10T23:08:56.745800Z",
     "shell.execute_reply": "2023-11-10T23:08:56.744939Z"
    },
    "id": "df7CDR-Hn2Iu",
    "lx_assignment_number": "2",
    "lx_assignment_type": "ASSIGNMENT",
    "lx_assignment_type2print": "Assignment",
    "lx_problem_cell_type": "PROBLEM",
    "lx_problem_number": "2",
    "lx_problem_points": "8",
    "outputId": "30b9c652-1111-4568-ff45-783a0a3f1ee7"
   },
   "outputs": [
    {
     "name": "stdout",
     "output_type": "stream",
     "text": [
      "(3525, 1)\n",
      "     fun: -15789.541782084183\n",
      "     jac: array([0.        , 0.00024414])\n",
      " message: 'Desired error not necessarily achieved due to precision loss.'\n",
      "    nfev: 180\n",
      "     nit: 10\n",
      "    njev: 55\n",
      "  status: 2\n",
      " success: False\n",
      "       x: array([-0.49961984,  1.79365686])\n"
     ]
    }
   ],
   "source": [
    "# Part 4\n",
    "\n",
    "# Initialize your PoissonRegression model\n",
    "problem2_model = PoissonRegression()\n",
    "\n",
    "\n",
    "# Fit your initialized model on the training data\n",
    "problem2_model.fit(problem2_X_train, problem2_y_train)\n",
    "\n",
    "# This is to make sure that everything went well,\n",
    "# check that success is True\n",
    "print(problem2_model.result)"
   ]
  },
  {
   "cell_type": "code",
   "execution_count": 11,
   "id": "c6f66fcb",
   "metadata": {
    "deletable": false,
    "execution": {
     "iopub.execute_input": "2023-11-10T23:08:56.749811Z",
     "iopub.status.busy": "2023-11-10T23:08:56.749485Z",
     "iopub.status.idle": "2023-11-10T23:08:57.349904Z",
     "shell.execute_reply": "2023-11-10T23:08:57.348994Z"
    },
    "id": "NQi4HA_Sn2Iu",
    "lx_assignment_number": "2",
    "lx_assignment_type": "ASSIGNMENT",
    "lx_assignment_type2print": "Assignment",
    "lx_problem_cell_type": "PROBLEM",
    "lx_problem_number": "2",
    "lx_problem_points": "8"
   },
   "outputs": [
    {
     "ename": "NameError",
     "evalue": "name 'MAE' is not defined",
     "output_type": "error",
     "traceback": [
      "\u001b[0;31m---------------------------------------------------------------------------\u001b[0m",
      "\u001b[0;31mNameError\u001b[0m                                 Traceback (most recent call last)",
      "Input \u001b[0;32mIn [11]\u001b[0m, in \u001b[0;36m<cell line: 4>\u001b[0;34m()\u001b[0m\n\u001b[1;32m      1\u001b[0m \u001b[38;5;66;03m# Part 5\u001b[39;00m\n\u001b[1;32m      2\u001b[0m \n\u001b[1;32m      3\u001b[0m \u001b[38;5;66;03m# Put the computed mean absolute error in the variable below\u001b[39;00m\n\u001b[0;32m----> 4\u001b[0m problem2_metric \u001b[38;5;241m=\u001b[39m \u001b[43mMAE\u001b[49m\n\u001b[1;32m      5\u001b[0m \u001b[38;5;66;03m# Put a confidence interval in the variable below by using Hoeffdings inequality using the bounds\u001b[39;00m\n\u001b[1;32m      6\u001b[0m \u001b[38;5;66;03m# a = 0, b=70 (roughly 5 days between visits as minimum)\u001b[39;00m\n\u001b[1;32m      7\u001b[0m \u001b[38;5;66;03m# the variable should contain a tuple representing the confidence interval of the form (l_edge,r_edge)\u001b[39;00m\n\u001b[1;32m      8\u001b[0m problem2_interval \u001b[38;5;241m=\u001b[39m XXX\n",
      "\u001b[0;31mNameError\u001b[0m: name 'MAE' is not defined"
     ]
    }
   ],
   "source": [
    "# Part 5\n",
    "\n",
    "# Put the computed mean absolute error in the variable below\n",
    "problem2_metric = MAE\n",
    "# Put a confidence interval in the variable below by using Hoeffdings inequality using the bounds\n",
    "# a = 0, b=70 (roughly 5 days between visits as minimum)\n",
    "# the variable should contain a tuple representing the confidence interval of the form (l_edge,r_edge)\n",
    "problem2_interval = XXX"
   ]
  },
  {
   "cell_type": "code",
   "execution_count": 12,
   "id": "f6f94a7f",
   "metadata": {
    "deletable": false,
    "execution": {
     "iopub.execute_input": "2023-11-10T23:08:57.354776Z",
     "iopub.status.busy": "2023-11-10T23:08:57.354308Z",
     "iopub.status.idle": "2023-11-10T23:08:57.707855Z",
     "shell.execute_reply": "2023-11-10T23:08:57.706904Z"
    },
    "lx_assignment_number": "2",
    "lx_assignment_type": "ASSIGNMENT",
    "lx_assignment_type2print": "Assignment",
    "lx_problem_cell_type": "TEST",
    "lx_problem_number": "2",
    "lx_problem_points": "8",
    "lx_test_only": "True"
   },
   "outputs": [
    {
     "name": "stdout",
     "output_type": "stream",
     "text": [
      "Beginning tests for problem 2\n",
      "\n",
      "---------------------------------\n",
      "Beginning test for part1\n",
      "---------------------------------\n",
      "\n",
      "-----Beginning test------\n",
      "You have not loaded pandas, good job!\n",
      "-----Ending test---------\n",
      "\n",
      "-----Beginning test------\n",
      "Your header is an iterable of strings\n",
      "-----Ending test---------\n",
      "\n",
      "-----Beginning test------\n",
      "Your problem2_data is a numpy array\n",
      "-----Ending test---------\n",
      "\n",
      "-----Beginning test------\n",
      "You have the correct header\n",
      "-----Ending test---------\n",
      "\n",
      "-----Beginning test------\n",
      "Your data has the correct shape\n",
      "-----Ending test---------\n",
      "\n",
      "-----Beginning test------\n",
      "Your problem2_data has the correct dtype\n",
      "-----Ending test---------\n",
      "\n",
      "---------------------------------\n",
      "Beginning test for part2\n",
      "---------------------------------\n",
      "\n",
      "-----Beginning test------\n",
      "Your X is a numpy array\n",
      "-----Ending test---------\n",
      "\n",
      "-----Beginning test------\n",
      "Your Xtrain is a numpy array\n",
      "-----Ending test---------\n",
      "\n",
      "-----Beginning test------\n",
      "Your problem2_X has the form (n_samples,n_features)\n",
      "-----Ending test---------\n",
      "\n",
      "-----Beginning test------\n",
      "Your problem2_X has the right shape\n",
      "-----Ending test---------\n",
      "\n",
      "-----Beginning test------\n",
      "Your problem2_y has the right shape\n",
      "-----Ending test---------\n",
      "\n",
      "-----Beginning test------\n",
      "Your problem2_X_train has the right shape\n",
      "-----Ending test---------\n",
      "\n",
      "-----Beginning test------\n",
      "Your problem2_X_test has the right shape\n",
      "-----Ending test---------\n",
      "\n",
      "-----Beginning test------\n",
      "Your problem2_y_train has the right shape\n",
      "-----Ending test---------\n",
      "\n",
      "-----Beginning test------\n",
      "Your problem2_y_test has the right shape\n",
      "-----Ending test---------\n",
      "\n",
      "---------------------------------\n",
      "Beginning test for part3\n",
      "---------------------------------\n",
      "\n",
      "-----Beginning test------\n",
      "\n",
      "Your loss does not return the correct value for a test case\n",
      "You got 1.5 points deduction \n",
      "-----Ending test---------\n",
      "\n",
      "---------------------------------\n",
      "Beginning test for part4\n",
      "---------------------------------\n",
      "\n",
      "-----Beginning test------\n",
      "Your coefficients are initialized\n",
      "-----Ending test---------\n",
      "\n",
      "-----Beginning test------\n",
      "\n",
      "The optimization step failed\n",
      "You got 0.5 points deduction \n",
      "-----Ending test---------\n",
      "\n",
      "-----Beginning test------\n",
      "The optimal value of the loss is close the the correct one\n",
      "-----Ending test---------\n",
      "\n",
      "---------------------------------\n",
      "Beginning test for part5\n",
      "---------------------------------\n",
      "\n",
      "-----Beginning test------\n",
      "name 'problem2_metric' is not defined\n",
      "Your MAE is off by more than 10^(-4)\n",
      "You got 1.0 points deduction \n",
      "-----Ending test---------\n",
      "\n",
      "-----Beginning test------\n",
      "name 'problem2_interval' is not defined\n",
      "At least one of your edges of the confidencen interval is off by more than 10^(-3), check that the left edge is non-negative and that the upper edge is less than the upper bound\n",
      "You got 0.5 points deduction \n",
      "-----Ending test---------\n",
      "\n",
      "-----Beginning test------\n",
      "name 'problem2_interval' is not defined\n",
      "At most one of your confidence interval is off by more than 10^(-3), check that the left edge is non-negative and that the upper edge is less than the upper bound\n",
      "You got 0.5 points deduction \n",
      "-----Ending test---------\n",
      "\n",
      "\n",
      "All tests complete, you got = 4 points\n",
      "The number of points you have scored for this problem is 4 out of 8\n",
      "The number of points you have accumulated thus far is   10 out of 16\n"
     ]
    }
   ],
   "source": []
  },
  {
   "cell_type": "markdown",
   "id": "e7464f2c",
   "metadata": {
    "deletable": false,
    "id": "KHqffbuMn2Iv",
    "lx_assignment_number": "2",
    "lx_assignment_type": "ASSIGNMENT",
    "lx_assignment_type2print": "Assignment",
    "lx_problem_cell_type": "PROBLEM",
    "lx_problem_number": "3",
    "lx_problem_points": "8"
   },
   "source": [
    "---\n",
    "## Assignment 2, PROBLEM 3\n",
    "Maximum Points = 8"
   ]
  },
  {
   "cell_type": "markdown",
   "id": "3d1d57da",
   "metadata": {
    "deletable": false,
    "id": "GXLT_dNhn2Iv",
    "lx_assignment_number": "2",
    "lx_assignment_type": "ASSIGNMENT",
    "lx_assignment_type2print": "Assignment",
    "lx_problem_cell_type": "PROBLEM",
    "lx_problem_number": "3",
    "lx_problem_points": "8"
   },
   "source": [
    "\n",
    "## Random variable generation and transformation\n",
    "\n",
    "The purpose of this problem is to show that you can implement your own sampler, this will be built in the following three steps:\n",
    "\n",
    "1. [2p] Implement a Linear Congruential Generator where you tested out a good combination (a large $M$ with $a,b$ satisfying the Hull-Dobell (Thm 6.8)) of parameters. Follow the instructions in the code block.\n",
    "2. [2p] Using a generator construct random numbers from the uniform $[0,1]$ distribution.\n",
    "3. [4p] Using a uniform $[0,1]$ random generator, generate samples from\n",
    "\n",
    "$$p_0(x) = \\frac{\\pi}{2}|\\sin(2\\pi x)|, \\quad x \\in [0,1] \\enspace .$$\n",
    "\n",
    "Using the **Accept-Reject** sampler (**Algorithm 1** in TFDS notes) with sampling density given by the uniform $[0,1]$ distribution."
   ]
  },
  {
   "cell_type": "code",
   "execution_count": 3,
   "id": "05731deb",
   "metadata": {
    "deletable": false,
    "execution": {
     "iopub.execute_input": "2023-11-10T23:08:57.712357Z",
     "iopub.status.busy": "2023-11-10T23:08:57.711896Z",
     "iopub.status.idle": "2023-11-10T23:08:57.717519Z",
     "shell.execute_reply": "2023-11-10T23:08:57.716689Z"
    },
    "id": "aT9VaMPZn2Iv",
    "lx_assignment_number": "2",
    "lx_assignment_type": "ASSIGNMENT",
    "lx_assignment_type2print": "Assignment",
    "lx_problem_cell_type": "PROBLEM",
    "lx_problem_number": "3",
    "lx_problem_points": "8"
   },
   "outputs": [],
   "source": [
    "\n",
    "def problem3_LCG(size=None, seed = 0):\n",
    "    \"\"\"\n",
    "    A linear congruential generator that generates pseudo random numbers according to size.\n",
    "\n",
    "    Parameters\n",
    "    -------------\n",
    "    size : an integer denoting how many samples should be produced\n",
    "    seed : the starting point of the LCG, i.e. u0 in the notes.\n",
    "\n",
    "    Returns\n",
    "    -------------\n",
    "    out : a list of the pseudo random numbers\n",
    "    \"\"\"\n",
    "\n",
    "\n",
    "    def D(x):\n",
    "      return (1001*x + 7) % 2000\n",
    "\n",
    "    out = [seed]\n",
    "\n",
    "    for i in range(size):\n",
    "      out.append(D(out[-1]))\n",
    "\n",
    "    return out"
   ]
  },
  {
   "cell_type": "code",
   "execution_count": 14,
   "id": "1b0e17fb",
   "metadata": {
    "deletable": false,
    "execution": {
     "iopub.execute_input": "2023-11-10T23:08:57.721930Z",
     "iopub.status.busy": "2023-11-10T23:08:57.721328Z",
     "iopub.status.idle": "2023-11-10T23:08:57.727471Z",
     "shell.execute_reply": "2023-11-10T23:08:57.726521Z"
    },
    "id": "xu7FgfgFn2Iw",
    "lx_assignment_number": "2",
    "lx_assignment_type": "ASSIGNMENT",
    "lx_assignment_type2print": "Assignment",
    "lx_problem_cell_type": "PROBLEM",
    "lx_problem_number": "3",
    "lx_problem_points": "8"
   },
   "outputs": [],
   "source": [
    "\n",
    "def problem3_uniform(generator=None, period = 1, size=None, seed=0):\n",
    "    \"\"\"\n",
    "    Takes a generator and produces samples from the uniform [0,1] distribution according\n",
    "    to size.\n",
    "\n",
    "    Parameters\n",
    "    -------------\n",
    "    generator : a function of type generator(size,seed) and produces the same result as problem1_LCG, i.e. pseudo random numbers in the range {0,1,...,period-1}\n",
    "    period : the period of the generator\n",
    "    seed : the seed to be used in the generator provided\n",
    "    size : an integer denoting how many samples should be produced\n",
    "\n",
    "    Returns\n",
    "    --------------\n",
    "    out : a list of the uniform pseudo random numbers\n",
    "    \"\"\"\n",
    "\n",
    "    random_numbers = generator(size, seed)\n",
    "\n",
    "    # Map the random numbers to the uniform distribution [0, 1]\n",
    "    uniform_samples = [r / 16 for r in random_numbers]\n",
    "\n",
    "    return uniform_samples"
   ]
  },
  {
   "cell_type": "code",
   "execution_count": 15,
   "id": "c67839c7",
   "metadata": {
    "deletable": false,
    "execution": {
     "iopub.execute_input": "2023-11-10T23:08:57.731912Z",
     "iopub.status.busy": "2023-11-10T23:08:57.731433Z",
     "iopub.status.idle": "2023-11-10T23:08:57.738295Z",
     "shell.execute_reply": "2023-11-10T23:08:57.737408Z"
    },
    "id": "MLTlmcrSn2Iw",
    "lx_assignment_number": "2",
    "lx_assignment_type": "ASSIGNMENT",
    "lx_assignment_type2print": "Assignment",
    "lx_problem_cell_type": "PROBLEM",
    "lx_problem_number": "3",
    "lx_problem_points": "8"
   },
   "outputs": [],
   "source": [
    "\n",
    "def problem3_accept_reject(uniformGenerator=None, n_iterations=None, seed=0):\n",
    "    \"\"\"\n",
    "    Takes a generator that produces uniform pseudo random [0,1] numbers\n",
    "    and produces samples from (pi/2)*abs(sin(x*2*pi)) using an Accept-Reject\n",
    "    sampler with the uniform distribution as the proposal distribution.\n",
    "    Runs n_iterations\n",
    "\n",
    "    Parameters\n",
    "    -------------\n",
    "    generator : a function of the type generator(size,seed) that produces uniform pseudo random\n",
    "    numbers from [0,1]\n",
    "    seed : the seed to be used in the generator provided\n",
    "    n_iterations : an integer denoting how many attempts should be made in the accept-reject sampler\n",
    "\n",
    "    Returns\n",
    "    --------------\n",
    "    out : a list of the pseudo random numbers with the specified distribution\n",
    "    \"\"\"\n",
    "\n",
    "    import math\n",
    "    samples = []\n",
    "    accepted_samples = 0\n",
    "\n",
    "    while accepted_samples < n_iterations:\n",
    "        x = uniformGenerator(1, seed)[0]  # Generate a uniform random number between 0 and 1\n",
    "        y = uniformGenerator(1, seed)[0]  # Generate a second uniform random number for acceptance testing\n",
    "        fx = (math.pi / 2) * abs(math.sin(x * 2 * math.pi))  # Calculate the target distribution\n",
    "\n",
    "        if y < fx:\n",
    "            samples.append(x)\n",
    "            accepted_samples += 1\n",
    "\n",
    "    return samples"
   ]
  },
  {
   "cell_type": "markdown",
   "id": "ea02199b",
   "metadata": {
    "deletable": false,
    "id": "5LgXAkbZn2Iw",
    "lx_assignment_number": "2",
    "lx_assignment_type": "ASSIGNMENT",
    "lx_assignment_type2print": "Assignment",
    "lx_problem_cell_type": "Test",
    "lx_problem_number": "3",
    "lx_problem_points": "8"
   },
   "source": [
    "---\n",
    "#### Local Test for Assignment 2, PROBLEM 3\n",
    "Evaluate cell below to make sure your answer is valid.                             You **should not** modify anything in the cell below when evaluating it to do a local test of                             your solution.\n",
    "You may need to include and evaluate code snippets from lecture notebooks in cells above to make the local test work correctly sometimes (see error messages for clues). This is meant to help you become efficient at recalling materials covered in lectures that relate to this problem. Such local tests will generally not be available in the exam."
   ]
  },
  {
   "cell_type": "code",
   "execution_count": 16,
   "id": "73730c74",
   "metadata": {
    "colab": {
     "base_uri": "https://localhost:8080/"
    },
    "deletable": false,
    "execution": {
     "iopub.execute_input": "2023-11-10T23:08:57.742314Z",
     "iopub.status.busy": "2023-11-10T23:08:57.741832Z",
     "iopub.status.idle": "2023-11-10T23:08:57.748824Z",
     "shell.execute_reply": "2023-11-10T23:08:57.747913Z"
    },
    "id": "IbPYxbf0n2Iw",
    "lx_assignment_number": "2",
    "lx_assignment_type": "ASSIGNMENT",
    "lx_assignment_type2print": "Assignment",
    "lx_problem_cell_type": "Test",
    "lx_problem_number": "3",
    "lx_problem_points": "8",
    "outputId": "fbe8b9fd-37d8-4d35-dc64-98cb710501cd"
   },
   "outputs": [
    {
     "name": "stdout",
     "output_type": "stream",
     "text": [
      "LCG output: [1, 3, 9, 11, 1, 3, 9, 11, 1, 3, 9]\n",
      "Uniform sampler [0.0625, 0.1875, 0.5625, 0.6875, 0.0625, 0.1875, 0.5625, 0.6875, 0.0625, 0.1875, 0.5625]\n",
      "Accept-Reject sampler [0.0625, 0.0625, 0.0625, 0.0625, 0.0625, 0.0625, 0.0625, 0.0625, 0.0625, 0.0625, 0.0625, 0.0625, 0.0625, 0.0625, 0.0625, 0.0625, 0.0625, 0.0625, 0.0625, 0.0625]\n"
     ]
    }
   ],
   "source": [
    "\n",
    "# If you managed to solve all three parts you can test the following code to see if it runs\n",
    "# you have to change the period to match your LCG though, this is marked as XXX.\n",
    "# It is a very good idea to check these things using the histogram function in sagemath\n",
    "# try with a larger number of samples, up to 10000 should run\n",
    "\n",
    "print(\"LCG output: %s\" % problem3_LCG(size=10, seed = 1))\n",
    "\n",
    "period = 4\n",
    "\n",
    "print(\"Uniform sampler %s\" % problem3_uniform(generator=problem3_LCG, period = period, size=10, seed=1))\n",
    "\n",
    "uniform_sampler = lambda size,seed: problem3_uniform(generator=problem3_LCG, period = period, size=size, seed=seed)\n",
    "\n",
    "print(\"Accept-Reject sampler %s\" % problem3_accept_reject(uniformGenerator = uniform_sampler,n_iterations=20,seed=1))"
   ]
  },
  {
   "cell_type": "code",
   "execution_count": 17,
   "id": "a3c108e4",
   "metadata": {
    "colab": {
     "base_uri": "https://localhost:8080/"
    },
    "deletable": false,
    "execution": {
     "iopub.execute_input": "2023-11-10T23:08:57.753349Z",
     "iopub.status.busy": "2023-11-10T23:08:57.752926Z",
     "iopub.status.idle": "2023-11-10T23:08:57.760263Z",
     "shell.execute_reply": "2023-11-10T23:08:57.759342Z"
    },
    "id": "tp3BvYPXn2Iw",
    "lx_assignment_number": "2",
    "lx_assignment_type": "ASSIGNMENT",
    "lx_assignment_type2print": "Assignment",
    "lx_problem_cell_type": "Test",
    "lx_problem_number": "3",
    "lx_problem_points": "8",
    "outputId": "1da9a458-2e38-46f7-80ea-c15d86978665"
   },
   "outputs": [
    {
     "name": "stdout",
     "output_type": "stream",
     "text": [
      "Accept-Reject sampler [0.13436424411240122, 0.13436424411240122, 0.13436424411240122, 0.13436424411240122, 0.13436424411240122, 0.13436424411240122, 0.13436424411240122, 0.13436424411240122, 0.13436424411240122, 0.13436424411240122, 0.13436424411240122, 0.13436424411240122, 0.13436424411240122, 0.13436424411240122, 0.13436424411240122, 0.13436424411240122, 0.13436424411240122, 0.13436424411240122, 0.13436424411240122, 0.13436424411240122]\n"
     ]
    }
   ],
   "source": [
    "\n",
    "# If however you did not manage to implement either part 1 or part 2 but still want to check part 3, you can run the code below\n",
    "\n",
    "def testUniformGenerator(size,seed):\n",
    "    import random\n",
    "    random.seed(seed)\n",
    "\n",
    "    return [random.uniform(0,1) for s in range(size)]\n",
    "\n",
    "print(\"Accept-Reject sampler %s\" % problem3_accept_reject(uniformGenerator=testUniformGenerator, n_iterations=20, seed=1))"
   ]
  },
  {
   "cell_type": "code",
   "execution_count": 18,
   "id": "94447af1",
   "metadata": {
    "deletable": false,
    "execution": {
     "iopub.execute_input": "2023-11-10T23:08:57.764037Z",
     "iopub.status.busy": "2023-11-10T23:08:57.763693Z",
     "iopub.status.idle": "2023-11-10T23:08:58.656375Z",
     "shell.execute_reply": "2023-11-10T23:08:58.655520Z"
    },
    "lx_assignment_number": "2",
    "lx_assignment_type": "ASSIGNMENT",
    "lx_assignment_type2print": "Assignment",
    "lx_problem_cell_type": "TEST",
    "lx_problem_number": "3",
    "lx_problem_points": "8",
    "lx_test_only": "True",
    "scrolled": true
   },
   "outputs": [
    {
     "name": "stdout",
     "output_type": "stream",
     "text": [
      "Beginning tests for problem 3\n",
      "\n",
      "---------------------------------\n",
      "Beginning test for part1\n",
      "---------------------------------\n",
      "\n",
      "-----Beginning test------\n",
      "\n",
      "The output of LCG is not respecting the size variable\n",
      "You got 1.0 points deduction \n",
      "-----Ending test---------\n",
      "\n",
      "-----Beginning test------\n",
      "\n",
      "Your period is less than 1000, which is not a good pseudo random generator\n",
      "You got 1.0 points deduction \n",
      "-----Ending test---------\n",
      "\n",
      "---------------------------------\n",
      "Beginning test for part2\n",
      "---------------------------------\n",
      "\n",
      "-----Beginning test------\n",
      "problem3_uniform outputs correct size\n",
      "-----Ending test---------\n",
      "\n",
      "-----Beginning test------\n",
      "\n",
      "Your uniform sampler does not seem to produce the correct uniform distribution\n",
      "You got 0.5 points deduction \n",
      "-----Ending test---------\n",
      "\n",
      "-----Beginning test------\n",
      "The output of problem3_uniform is greater than 0\n",
      "-----Ending test---------\n",
      "\n",
      "-----Beginning test------\n",
      "\n",
      "The output of problem3_uniform is greater than 1\n",
      "You got 0.5 points deduction \n",
      "-----Ending test---------\n",
      "\n",
      "---------------------------------\n",
      "Beginning test for part3\n",
      "---------------------------------\n",
      "\n",
      "-----Beginning test------\n",
      "\n",
      "Your accept-reject generator is producing duplicate samples when doing 200 iterations\n",
      "You got 1.0 points deduction \n",
      "-----Ending test---------\n",
      "\n",
      "-----Beginning test------\n",
      "The accept-reject sampler runs with your LCG sampler and produces numbers between 0 and 1\n",
      "-----Ending test---------\n",
      "\n",
      "-----Beginning test------\n",
      "The accept-reject sampler runs with a plug in sampler and produces numbers between 0 and 1\n",
      "-----Ending test---------\n",
      "\n",
      "-----Beginning test------\n",
      "\n",
      "Your accept-reject generator is producing duplicate samples, which it should not with my-plugin generator\n",
      "You got 1.0 points deduction \n",
      "-----Ending test---------\n",
      "\n",
      "-----Beginning test------\n",
      "The accept-reject sampler seems to produce the correct distribution, within tolerance!\n",
      "-----Ending test---------\n",
      "\n",
      "\n",
      "All tests complete, you got = 3 points\n",
      "The number of points you have scored for this problem is 3 out of 8\n",
      " \n",
      " \n",
      " \n",
      "The number of points you have scored in total for this entire set of Problems is 13 out of 24\n"
     ]
    }
   ],
   "source": []
  }
 ],
 "metadata": {
  "kernelspec": {
   "display_name": "Python 3",
   "language": "python",
   "name": "python3"
  },
  "language_info": {
   "codemirror_mode": {
    "name": "ipython",
    "version": 3
   },
   "file_extension": ".py",
   "mimetype": "text/x-python",
   "name": "python",
   "nbconvert_exporter": "python",
   "pygments_lexer": "ipython3",
   "version": "3.9.6"
  },
  "lx_assignment_number": 2,
  "lx_course_instance": "2023",
  "lx_course_name": "Introduction to Data Science",
  "lx_course_number": "1MS041"
 },
 "nbformat": 4,
 "nbformat_minor": 5
}
