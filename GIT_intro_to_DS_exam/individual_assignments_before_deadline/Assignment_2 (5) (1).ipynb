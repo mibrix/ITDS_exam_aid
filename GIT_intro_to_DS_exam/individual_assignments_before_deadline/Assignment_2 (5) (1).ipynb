{
  "cells": [
    {
      "cell_type": "markdown",
      "metadata": {
        "deletable": false,
        "id": "ZRyuyLGUn2Il"
      },
      "source": [
        "# Assignment 2 for Course 1MS041\n",
        "Make         sure you pass the `# ... Test` cells and\n",
        " submit your solution notebook in the corresponding assignment on the course website. You can submit multiple times before the deadline         and your highest score will be used."
      ]
    },
    {
      "cell_type": "markdown",
      "metadata": {
        "deletable": false,
        "lx_assignment_number": "2",
        "lx_assignment_type": "ASSIGNMENT",
        "lx_assignment_type2print": "Assignment",
        "lx_problem_cell_type": "PROBLEM",
        "lx_problem_number": "1",
        "lx_problem_points": "8",
        "id": "nxBg9XEPn2Io"
      },
      "source": [
        "---\n",
        "## Assignment 2, PROBLEM 1\n",
        "Maximum Points = 8"
      ]
    },
    {
      "cell_type": "markdown",
      "metadata": {
        "deletable": false,
        "lx_assignment_number": "2",
        "lx_assignment_type": "ASSIGNMENT",
        "lx_assignment_type2print": "Assignment",
        "lx_problem_cell_type": "PROBLEM",
        "lx_problem_number": "1",
        "lx_problem_points": "8",
        "id": "4z5_u8cLn2Ip"
      },
      "source": [
        "\n",
        "A courier company operates a fleet of delivery trucks that make deliveries to different parts of the city. The trucks are equipped with GPS tracking devices that record the location of each truck at regular intervals. The locations are divided into three regions: downtown, the suburbs, and the countryside. The following table shows the probabilities of a truck transitioning between these regions at each time step:\n",
        "\n",
        "| Current region | Probability of transitioning to downtown | Probability of transitioning to the suburbs | Probability of transitioning to the countryside |\n",
        "|----------------|--------------------------------------------|-----------------------------------------------|------------------------------------------------|\n",
        "| Downtown       | 0.3                                      | 0.4                                           | 0.3                                            |\n",
        "| Suburbs        | 0.2                                      | 0.5                                           | 0.3                                            |\n",
        "| Countryside    | 0.4                                      | 0.3                                           | 0.3                                            |\n",
        "\n",
        "1. If a truck is currently in the suburbs, what is the probability that it will be in the downtown region after two time steps? [1.5p]\n",
        "2. If a truck is currently in the suburbs, what is the probability that it will be in the downtown region **the first time** after two time steps? [1.5p]\n",
        "3. Is this Markov chain irreducible? [1.5p]\n",
        "4. What is the stationary distribution? [1.5p]\n",
        "5. Advanced question: What is the expected number of steps until the first time one enters the downtown region having started in the suburbs region. Hint: to get within 1 decimal point, it is enough to compute the probabilities for hitting times below 30. [2p]\n",
        "\n"
      ]
    },
    {
      "cell_type": "code",
      "execution_count": null,
      "metadata": {
        "deletable": false,
        "lx_assignment_number": "2",
        "lx_assignment_type": "ASSIGNMENT",
        "lx_assignment_type2print": "Assignment",
        "lx_problem_cell_type": "PROBLEM",
        "lx_problem_number": "1",
        "lx_problem_points": "14",
        "id": "eLrOEahrn2Ip"
      },
      "outputs": [],
      "source": [
        "# Part 1\n",
        "\n",
        "# Fill in the answer to part 1 below as a decimal number\n",
        "problem1_p1 = (0.5 * 0.2) + (0.3 * 0.4) + (0.2 * 0.3)"
      ]
    },
    {
      "cell_type": "code",
      "execution_count": null,
      "metadata": {
        "deletable": false,
        "lx_assignment_number": "2",
        "lx_assignment_type": "ASSIGNMENT",
        "lx_assignment_type2print": "Assignment",
        "lx_problem_cell_type": "PROBLEM",
        "lx_problem_number": "1",
        "lx_problem_points": "14",
        "id": "CIAlLmWCn2Ir"
      },
      "outputs": [],
      "source": [
        "# Part 2\n",
        "\n",
        "# Fill in the answer to part 2 below as a decimal number\n",
        "problem1_p2 = (0.5 * 0.2) + (0.3 * 0.4)"
      ]
    },
    {
      "cell_type": "code",
      "execution_count": null,
      "metadata": {
        "deletable": false,
        "lx_assignment_number": "2",
        "lx_assignment_type": "ASSIGNMENT",
        "lx_assignment_type2print": "Assignment",
        "lx_problem_cell_type": "PROBLEM",
        "lx_problem_number": "1",
        "lx_problem_points": "14",
        "id": "lH57mZX6n2Ir"
      },
      "outputs": [],
      "source": [
        "# Part 3\n",
        "\n",
        "# Fill in the answer to part 3 below as a boolean\n",
        "problem1_irreducible = True"
      ]
    },
    {
      "cell_type": "code",
      "execution_count": null,
      "metadata": {
        "deletable": false,
        "lx_assignment_number": "2",
        "lx_assignment_type": "ASSIGNMENT",
        "lx_assignment_type2print": "Assignment",
        "lx_problem_cell_type": "PROBLEM",
        "lx_problem_number": "1",
        "lx_problem_points": "14",
        "id": "QJF0RX0dn2Ir",
        "colab": {
          "base_uri": "https://localhost:8080/"
        },
        "outputId": "1864101d-7c14-41fc-cb6d-7ba29d2a08ab"
      },
      "outputs": [
        {
          "output_type": "stream",
          "name": "stdout",
          "text": [
            "[0.28888889 0.41111111 0.3       ]\n"
          ]
        }
      ],
      "source": [
        "# Part 4\n",
        "\n",
        "# Fill in the answer to part 4 below\n",
        "# the answer should be a numpy array of length 3\n",
        "# make sure that the entries sums to 1!\n",
        "import numpy as np\n",
        "\n",
        "A = np.array([[-0.7, 0.2, 0.4], [0.4, -0.5, 0.3], [0.3, 0.3, -0.7], [1, 1, 1]])\n",
        "b = np.array([0, 0, 0, 1])\n",
        "solution, residuals, rank, singular_values = np.linalg.lstsq(A, b, rcond=None)\n",
        "print(solution)\n",
        "problem1_stationary = solution"
      ]
    },
    {
      "cell_type": "code",
      "execution_count": null,
      "metadata": {
        "deletable": false,
        "lx_assignment_number": "2",
        "lx_assignment_type": "ASSIGNMENT",
        "lx_assignment_type2print": "Assignment",
        "lx_problem_cell_type": "PROBLEM",
        "lx_problem_number": "1",
        "lx_problem_points": "14",
        "id": "Wh3qUk42n2Is"
      },
      "outputs": [],
      "source": [
        "# Part 5\n",
        "\n",
        "# Fill in the answer to part 5 below\n",
        "# That is, the expected number of steps as a decimal number\n",
        "#problem1_ET = XXX"
      ]
    },
    {
      "cell_type": "code",
      "source": [
        "# from google.colab import drive\n",
        "# drive.mount('/content/drive')"
      ],
      "metadata": {
        "colab": {
          "base_uri": "https://localhost:8080/"
        },
        "id": "Wj3S9Fe0grCX",
        "outputId": "1d50a01f-a3c5-4f19-d1bf-585231daab68"
      },
      "execution_count": null,
      "outputs": [
        {
          "output_type": "stream",
          "name": "stdout",
          "text": [
            "Mounted at /content/drive\n"
          ]
        }
      ]
    },
    {
      "cell_type": "markdown",
      "metadata": {
        "deletable": false,
        "lx_assignment_number": "2",
        "lx_assignment_type": "ASSIGNMENT",
        "lx_assignment_type2print": "Assignment",
        "lx_problem_cell_type": "PROBLEM",
        "lx_problem_number": "2",
        "lx_problem_points": "8",
        "id": "J78DKGF1n2Is"
      },
      "source": [
        "---\n",
        "## Assignment 2, PROBLEM 2\n",
        "Maximum Points = 8"
      ]
    },
    {
      "cell_type": "markdown",
      "metadata": {
        "deletable": false,
        "lx_assignment_number": "2",
        "lx_assignment_type": "ASSIGNMENT",
        "lx_assignment_type2print": "Assignment",
        "lx_problem_cell_type": "PROBLEM",
        "lx_problem_number": "2",
        "lx_problem_points": "8",
        "id": "hiUdHLbrn2It"
      },
      "source": [
        "\n",
        "A healthcare organization is interested in understanding the relationship between the number of visits to the doctors office and certain patient characteristics.\n",
        "They have collected data on the number of visits (for a year) for a sample of patients and have included the following variables\n",
        "\n",
        "* ofp : number of physician office visits\n",
        "* ofnp : number of nonphysician office visits\n",
        "* opp : number of physician outpatient visits\n",
        "* opnp : number of nonphysician outpatient visits\n",
        "* emr : number of emergency room visits\n",
        "* hosp : number of hospitalizations\n",
        "* exclhlth : the person is of excellent health (self-perceived)\n",
        "* poorhealth : the person is of poor health (self-perceived)\n",
        "* numchron : number of chronic conditions\n",
        "* adldiff : the person has a condition that limits activities of daily living ?\n",
        "* noreast : the person is from the north east region\n",
        "* midwest : the person is from the midwest region\n",
        "* west : the person is from the west region\n",
        "* age : age in years (divided by 10)\n",
        "* male : is the person male ?\n",
        "* married : is the person married ?\n",
        "* school : number of years of education\n",
        "* faminc : family income in 10000$\n",
        "* employed : is the person employed ?\n",
        "* privins : is the person covered by private health insurance?\n",
        "* medicaid : is the person covered by medicaid ?\n",
        "\n",
        "Decide which patient features are resonable to use to predict the target \"number of physician office visits\". Hint: should we really use the \"ofnp\" etc variables?\n",
        "\n",
        "Since the target variable is counts, a reasonable loss function is to consider the target variable as Poisson distributed where the parameter follows $\\lambda = \\exp(\\alpha \\cdot x + \\beta)$ where $\\alpha$ is a vector (slope) and $\\beta$ is a number (intercept). That is, the parameter is the exponential of a linear function. The reason we chose this as our parameter, is that it is always positive which is when the Poisson distribution is defined. To be specific we make the following assumption about our conditional density of $Y \\mid X$,\n",
        "$$\n",
        "    f_{Y \\mid X} (y,x) = \\frac{\\lambda^{y} e^{-\\lambda}}{y !}, \\quad \\lambda(x) = \\exp(\\alpha \\cdot x + \\beta).\n",
        "$$\n",
        "\n",
        "Recall from the lecture notes, (4.2) that in this case we should consider the log-loss (entropy) and that according to (4.2.1 Maximum Likelihood and regression) we can consider the conditional log-likelihood. Follow the steps of Example 1 and Example 2 in section (4.2) to derive the loss that needs to be minimized.\n",
        "\n",
        "Hint: when taking the log of the conditional density you will find that the term that contains the $y!$ does not depend on $\\lambda$ and as such does not depend on $\\alpha,\\beta$, it can thus be discarded. This will be essential due to numerical issues with factorials.\n",
        "\n",
        "Instructions:\n",
        "\n",
        "1. Load the file `data/visits_clean.csv`, follow the instructions in the code cell of how this should happen [1.5p]\n",
        "2. Create the `problem2_X` and the `problem2_y` as numpy arrays with `problem2_X` being the features and `problem2_y` being the target. Do the standard train-test split with 80% training data and 20% testing data. Store these in the variables defined in the cells. [1.5p]\n",
        "3. Implement $loss$ inside the class `PoissonRegression` by writing down the loss to be minimized, I have provided a formula for the $\\lambda$ that you can use. [1.5p]\n",
        "4. Now use the `PoissonRegression` class to train a Poisson regression model on the training data. [1.5p]\n",
        "5. Compute the mean absolute error of your prediction on the test set and use Hoeffdings inequality to produce a 95\\% confidence interval for the mean absolute error. We can make the assumption that the error is bounded by 70 for simplicity. [2p]\n"
      ]
    },
    {
      "cell_type": "code",
      "source": [
        "# %cd notebooks\n",
        "# !ls"
      ],
      "metadata": {
        "id": "umRlg_uDTjm8"
      },
      "execution_count": null,
      "outputs": []
    },
    {
      "cell_type": "code",
      "execution_count": null,
      "metadata": {
        "deletable": false,
        "lx_assignment_number": "2",
        "lx_assignment_type": "ASSIGNMENT",
        "lx_assignment_type2print": "Assignment",
        "lx_problem_cell_type": "PROBLEM",
        "lx_problem_number": "2",
        "lx_problem_points": "8",
        "id": "zufZX51Fn2It"
      },
      "outputs": [],
      "source": [
        "# Part 1\n",
        "\n",
        "# As in assignment 1 we will load the header into header and data into data\n",
        "# this time you will have to parse the data such that each data entry is a float\n",
        "# and that the problem2_data is a numpy array of shape (n_samples,n_columns)\n",
        "# where n_columns is the number of columns and should have the same length as\n",
        "# the list of strings header. n_samples is how many rows of data we had.\n",
        "# If you cannot find the file, check the starting package as it should be updated\n",
        "# if not, go to the github repo and pull it\n",
        "\n",
        "# The autograder does not accept pandas as a solution to this problem.\n",
        "# data/visits_clean.csv\n",
        "\n",
        "import numpy as np\n",
        "#%cd data\n",
        "temp = []\n",
        "with open('data/visits_clean.csv', 'r') as filee:\n",
        "  for n,line in enumerate(filee):\n",
        "    if n == 0:\n",
        "      problem2_header = line.split()\n",
        "    else:\n",
        "      temp.append(line.split())\n",
        "\n",
        "problem2_data = np.array(temp, dtype=float) #A numpy array of shape n_samples n_columns"
      ]
    },
    {
      "cell_type": "code",
      "execution_count": null,
      "metadata": {
        "deletable": false,
        "lx_assignment_number": "2",
        "lx_assignment_type": "ASSIGNMENT",
        "lx_assignment_type2print": "Assignment",
        "lx_problem_cell_type": "PROBLEM",
        "lx_problem_number": "2",
        "lx_problem_points": "8",
        "id": "uQOyIWEGn2It",
        "colab": {
          "base_uri": "https://localhost:8080/"
        },
        "outputId": "6417d06f-af1f-485f-9804-ea569f977949"
      },
      "outputs": [
        {
          "output_type": "stream",
          "name": "stderr",
          "text": [
            "<ipython-input-83-0346411d8316>:17: VisibleDeprecationWarning: Creating an ndarray from ragged nested sequences (which is a list-or-tuple of lists-or-tuples-or ndarrays with different lengths or shapes) is deprecated. If you meant to do this, you must specify 'dtype=object' when creating the ndarray.\n",
            "  shuffled = np.array(list(zip(problem2_X, problem2_y)))\n"
          ]
        }
      ],
      "source": [
        "# Part 2\n",
        "#print(problem2_header[6])\n",
        "\n",
        "# Fill in your X and y below\n",
        "problem2_X = np.array([i[6:7] for i in problem2_data])\n",
        "problem2_y = np.array([i[0] for i in problem2_data])\n",
        "\n",
        "# Split the data into train and randomly using for instance\n",
        "# np.random.shuffle indices and indexing the first 80% as the train data\n",
        "# keep the train size as 0.8 rounded up to the nearest integer sample\n",
        "\n",
        "train_num = round(len(problem2_X)*0.8)\n",
        "test_num = round(len(problem2_y)*0.2)\n",
        "\n",
        "#print(train_num)#\n",
        "\n",
        "shuffled = np.array(list(zip(problem2_X, problem2_y)))\n",
        "np.random.shuffle(shuffled)\n",
        "\n",
        "problem2_X_train = np.array([i[0] for i in shuffled[:train_num]])\n",
        "problem2_X_test = np.array([i[0] for i in shuffled[train_num:]])\n",
        "problem2_y_train = np.array([i[1] for i in shuffled[:train_num]])\n",
        "problem2_y_test = np.array([i[1] for i in shuffled[train_num:]])\n",
        "\n",
        "#print(problem2_X_train)\n",
        "#print(problem2_X_test)\n",
        "# print(problem2_y_train)\n",
        "# print(problem2_y_test)"
      ]
    },
    {
      "cell_type": "code",
      "execution_count": null,
      "metadata": {
        "deletable": false,
        "lx_assignment_number": "2",
        "lx_assignment_type": "ASSIGNMENT",
        "lx_assignment_type2print": "Assignment",
        "lx_problem_cell_type": "PROBLEM",
        "lx_problem_number": "2",
        "lx_problem_points": "8",
        "id": "QIcbbeQjn2It"
      },
      "outputs": [],
      "source": [
        "import math\n",
        "# Part 3\n",
        "\n",
        "# Fill in the function loss below\n",
        "\n",
        "class PoissonRegression(object):\n",
        "    def __init__(self):\n",
        "        self.coeffs = None\n",
        "        self.result = None\n",
        "\n",
        "    # define the objective/cost/loss function we want to minimise\n",
        "    def loss(self,X,Y,coeffs):\n",
        "        # The parameter lambda for the given X and the proposed values\n",
        "        # of the coefficients, here coeff[:-1] represent alpha\n",
        "        # and coeff[-1] represent beta\n",
        "                # Compute the Poisson loss\n",
        "        lambda_values = np.exp(np.dot(X, coeffs[:-1]) + coeffs[-1])\n",
        "        loss = np.sum(lambda_values - Y * (np.log(lambda_values)))\n",
        "\n",
        "\n",
        "        # use the Y variable that is available here to define\n",
        "        # the loss function, return the value of the loss for\n",
        "        # this Y and for this parameter lam defined above\n",
        "        return loss\n",
        "\n",
        "    def fit(self,X,Y):\n",
        "        import numpy as np\n",
        "        from scipy import optimize\n",
        "\n",
        "        #Use the loss above together with an optimization method from scipy\n",
        "        #to find the coefficients of the model\n",
        "        #this is prepared for you below\n",
        "        opt_loss = lambda coeffs: self.loss(X,Y,coeffs)\n",
        "        print(X.shape)\n",
        "        initial_arguments = np.zeros(shape=X.shape[1]+1) # initial guess as 0\n",
        "        self.result = optimize.minimize(opt_loss, initial_arguments,method='cg')\n",
        "        self.coeffs = self.result.x\n",
        "\n",
        "    def predict(self,X):\n",
        "        #Use the trained model to predict Y\n",
        "        if (self.coeffs is not None):\n",
        "            return np.exp(np.dot(X,self.coeffs[:-1])+self.coeffs[-1])"
      ]
    },
    {
      "cell_type": "code",
      "execution_count": null,
      "metadata": {
        "deletable": false,
        "lx_assignment_number": "2",
        "lx_assignment_type": "ASSIGNMENT",
        "lx_assignment_type2print": "Assignment",
        "lx_problem_cell_type": "PROBLEM",
        "lx_problem_number": "2",
        "lx_problem_points": "8",
        "id": "df7CDR-Hn2Iu",
        "outputId": "30b9c652-1111-4568-ff45-783a0a3f1ee7",
        "colab": {
          "base_uri": "https://localhost:8080/"
        }
      },
      "outputs": [
        {
          "output_type": "stream",
          "name": "stdout",
          "text": [
            "(3525, 1)\n",
            " message: Optimization terminated successfully.\n",
            " success: True\n",
            "  status: 0\n",
            "     fun: -15774.613165037648\n",
            "       x: [-5.403e-01  1.795e+00]\n",
            "     nit: 11\n",
            "     jac: [ 0.000e+00  0.000e+00]\n",
            "    nfev: 84\n",
            "    njev: 28\n"
          ]
        }
      ],
      "source": [
        "# Part 4\n",
        "\n",
        "# Initialize your PoissonRegression model\n",
        "problem2_model = PoissonRegression()\n",
        "\n",
        "\n",
        "# Fit your initialized model on the training data\n",
        "problem2_model.fit(problem2_X_train, problem2_y_train)\n",
        "\n",
        "# This is to make sure that everything went well,\n",
        "# check that success is True\n",
        "print(problem2_model.result)"
      ]
    },
    {
      "cell_type": "code",
      "execution_count": null,
      "metadata": {
        "deletable": false,
        "lx_assignment_number": "2",
        "lx_assignment_type": "ASSIGNMENT",
        "lx_assignment_type2print": "Assignment",
        "lx_problem_cell_type": "PROBLEM",
        "lx_problem_number": "2",
        "lx_problem_points": "8",
        "id": "NQi4HA_Sn2Iu"
      },
      "outputs": [],
      "source": [
        "# Part 5\n",
        "\n",
        "# Put the computed mean absolute error in the variable below\n",
        "problem2_metric = MAE\n",
        "# Put a confidence interval in the variable below by using Hoeffdings inequality using the bounds\n",
        "# a = 0, b=70 (roughly 5 days between visits as minimum)\n",
        "# the variable should contain a tuple representing the confidence interval of the form (l_edge,r_edge)\n",
        "problem2_interval = XXX"
      ]
    },
    {
      "cell_type": "markdown",
      "metadata": {
        "deletable": false,
        "lx_assignment_number": "2",
        "lx_assignment_type": "ASSIGNMENT",
        "lx_assignment_type2print": "Assignment",
        "lx_problem_cell_type": "PROBLEM",
        "lx_problem_number": "3",
        "lx_problem_points": "8",
        "id": "KHqffbuMn2Iv"
      },
      "source": [
        "---\n",
        "## Assignment 2, PROBLEM 3\n",
        "Maximum Points = 8"
      ]
    },
    {
      "cell_type": "markdown",
      "metadata": {
        "deletable": false,
        "lx_assignment_number": "2",
        "lx_assignment_type": "ASSIGNMENT",
        "lx_assignment_type2print": "Assignment",
        "lx_problem_cell_type": "PROBLEM",
        "lx_problem_number": "3",
        "lx_problem_points": "8",
        "id": "GXLT_dNhn2Iv"
      },
      "source": [
        "\n",
        "## Random variable generation and transformation\n",
        "\n",
        "The purpose of this problem is to show that you can implement your own sampler, this will be built in the following three steps:\n",
        "\n",
        "1. [2p] Implement a Linear Congruential Generator where you tested out a good combination (a large $M$ with $a,b$ satisfying the Hull-Dobell (Thm 6.8)) of parameters. Follow the instructions in the code block.\n",
        "2. [2p] Using a generator construct random numbers from the uniform $[0,1]$ distribution.\n",
        "3. [4p] Using a uniform $[0,1]$ random generator, generate samples from\n",
        "\n",
        "$$p_0(x) = \\frac{\\pi}{2}|\\sin(2\\pi x)|, \\quad x \\in [0,1] \\enspace .$$\n",
        "\n",
        "Using the **Accept-Reject** sampler (**Algorithm 1** in TFDS notes) with sampling density given by the uniform $[0,1]$ distribution."
      ]
    },
    {
      "cell_type": "code",
      "execution_count": null,
      "metadata": {
        "deletable": false,
        "lx_assignment_number": "2",
        "lx_assignment_type": "ASSIGNMENT",
        "lx_assignment_type2print": "Assignment",
        "lx_problem_cell_type": "PROBLEM",
        "lx_problem_number": "3",
        "lx_problem_points": "8",
        "id": "aT9VaMPZn2Iv"
      },
      "outputs": [],
      "source": [
        "\n",
        "def problem3_LCG(size=None, seed = 0):\n",
        "    \"\"\"\n",
        "    A linear congruential generator that generates pseudo random numbers according to size.\n",
        "\n",
        "    Parameters\n",
        "    -------------\n",
        "    size : an integer denoting how many samples should be produced\n",
        "    seed : the starting point of the LCG, i.e. u0 in the notes.\n",
        "\n",
        "    Returns\n",
        "    -------------\n",
        "    out : a list of the pseudo random numbers\n",
        "    \"\"\"\n",
        "\n",
        "\n",
        "    def D(x):\n",
        "      return (3*x + 0) % 16\n",
        "\n",
        "    out = [seed]\n",
        "\n",
        "    for i in range(size):\n",
        "      out.append(D(out[-1]))\n",
        "\n",
        "    return out"
      ]
    },
    {
      "cell_type": "code",
      "execution_count": null,
      "metadata": {
        "deletable": false,
        "lx_assignment_number": "2",
        "lx_assignment_type": "ASSIGNMENT",
        "lx_assignment_type2print": "Assignment",
        "lx_problem_cell_type": "PROBLEM",
        "lx_problem_number": "3",
        "lx_problem_points": "8",
        "id": "xu7FgfgFn2Iw"
      },
      "outputs": [],
      "source": [
        "\n",
        "def problem3_uniform(generator=None, period = 1, size=None, seed=0):\n",
        "    \"\"\"\n",
        "    Takes a generator and produces samples from the uniform [0,1] distribution according\n",
        "    to size.\n",
        "\n",
        "    Parameters\n",
        "    -------------\n",
        "    generator : a function of type generator(size,seed) and produces the same result as problem1_LCG, i.e. pseudo random numbers in the range {0,1,...,period-1}\n",
        "    period : the period of the generator\n",
        "    seed : the seed to be used in the generator provided\n",
        "    size : an integer denoting how many samples should be produced\n",
        "\n",
        "    Returns\n",
        "    --------------\n",
        "    out : a list of the uniform pseudo random numbers\n",
        "    \"\"\"\n",
        "\n",
        "    random_numbers = generator(size, seed)\n",
        "\n",
        "    # Map the random numbers to the uniform distribution [0, 1]\n",
        "    uniform_samples = [r / 16 for r in random_numbers]\n",
        "\n",
        "    return uniform_samples"
      ]
    },
    {
      "cell_type": "code",
      "execution_count": null,
      "metadata": {
        "deletable": false,
        "lx_assignment_number": "2",
        "lx_assignment_type": "ASSIGNMENT",
        "lx_assignment_type2print": "Assignment",
        "lx_problem_cell_type": "PROBLEM",
        "lx_problem_number": "3",
        "lx_problem_points": "8",
        "id": "MLTlmcrSn2Iw"
      },
      "outputs": [],
      "source": [
        "\n",
        "def problem3_accept_reject(uniformGenerator=None, n_iterations=None, seed=0):\n",
        "    \"\"\"\n",
        "    Takes a generator that produces uniform pseudo random [0,1] numbers\n",
        "    and produces samples from (pi/2)*abs(sin(x*2*pi)) using an Accept-Reject\n",
        "    sampler with the uniform distribution as the proposal distribution.\n",
        "    Runs n_iterations\n",
        "\n",
        "    Parameters\n",
        "    -------------\n",
        "    generator : a function of the type generator(size,seed) that produces uniform pseudo random\n",
        "    numbers from [0,1]\n",
        "    seed : the seed to be used in the generator provided\n",
        "    n_iterations : an integer denoting how many attempts should be made in the accept-reject sampler\n",
        "\n",
        "    Returns\n",
        "    --------------\n",
        "    out : a list of the pseudo random numbers with the specified distribution\n",
        "    \"\"\"\n",
        "\n",
        "    import math\n",
        "    samples = []\n",
        "    accepted_samples = 0\n",
        "\n",
        "    while accepted_samples < n_iterations:\n",
        "        x = uniformGenerator(1, seed)[0]  # Generate a uniform random number between 0 and 1\n",
        "        y = uniformGenerator(1, seed)[0]  # Generate a second uniform random number for acceptance testing\n",
        "        fx = (math.pi / 2) * abs(math.sin(x * 2 * math.pi))  # Calculate the target distribution\n",
        "\n",
        "        if y < fx:\n",
        "            samples.append(x)\n",
        "            accepted_samples += 1\n",
        "\n",
        "    return samples"
      ]
    },
    {
      "cell_type": "markdown",
      "metadata": {
        "deletable": false,
        "lx_assignment_number": "2",
        "lx_assignment_type": "ASSIGNMENT",
        "lx_assignment_type2print": "Assignment",
        "lx_problem_cell_type": "Test",
        "lx_problem_number": "3",
        "lx_problem_points": "8",
        "id": "5LgXAkbZn2Iw"
      },
      "source": [
        "---\n",
        "#### Local Test for Assignment 2, PROBLEM 3\n",
        "Evaluate cell below to make sure your answer is valid.                             You **should not** modify anything in the cell below when evaluating it to do a local test of                             your solution.\n",
        "You may need to include and evaluate code snippets from lecture notebooks in cells above to make the local test work correctly sometimes (see error messages for clues). This is meant to help you become efficient at recalling materials covered in lectures that relate to this problem. Such local tests will generally not be available in the exam."
      ]
    },
    {
      "cell_type": "code",
      "execution_count": null,
      "metadata": {
        "deletable": false,
        "lx_assignment_number": "2",
        "lx_assignment_type": "ASSIGNMENT",
        "lx_assignment_type2print": "Assignment",
        "lx_problem_cell_type": "Test",
        "lx_problem_number": "3",
        "lx_problem_points": "8",
        "id": "IbPYxbf0n2Iw",
        "outputId": "fbe8b9fd-37d8-4d35-dc64-98cb710501cd",
        "colab": {
          "base_uri": "https://localhost:8080/"
        }
      },
      "outputs": [
        {
          "output_type": "stream",
          "name": "stdout",
          "text": [
            "LCG output: [1, 3, 9, 11, 1, 3, 9, 11, 1, 3, 9]\n",
            "Uniform sampler [0.0625, 0.1875, 0.5625, 0.6875, 0.0625, 0.1875, 0.5625, 0.6875, 0.0625, 0.1875, 0.5625]\n",
            "Accept-Reject sampler [0.0625, 0.0625, 0.0625, 0.0625, 0.0625, 0.0625, 0.0625, 0.0625, 0.0625, 0.0625, 0.0625, 0.0625, 0.0625, 0.0625, 0.0625, 0.0625, 0.0625, 0.0625, 0.0625, 0.0625]\n"
          ]
        }
      ],
      "source": [
        "\n",
        "# If you managed to solve all three parts you can test the following code to see if it runs\n",
        "# you have to change the period to match your LCG though, this is marked as XXX.\n",
        "# It is a very good idea to check these things using the histogram function in sagemath\n",
        "# try with a larger number of samples, up to 10000 should run\n",
        "\n",
        "print(\"LCG output: %s\" % problem3_LCG(size=10, seed = 1))\n",
        "\n",
        "period = 4\n",
        "\n",
        "print(\"Uniform sampler %s\" % problem3_uniform(generator=problem3_LCG, period = period, size=10, seed=1))\n",
        "\n",
        "uniform_sampler = lambda size,seed: problem3_uniform(generator=problem3_LCG, period = period, size=size, seed=seed)\n",
        "\n",
        "print(\"Accept-Reject sampler %s\" % problem3_accept_reject(uniformGenerator = uniform_sampler,n_iterations=20,seed=1))"
      ]
    },
    {
      "cell_type": "code",
      "execution_count": null,
      "metadata": {
        "deletable": false,
        "lx_assignment_number": "2",
        "lx_assignment_type": "ASSIGNMENT",
        "lx_assignment_type2print": "Assignment",
        "lx_problem_cell_type": "Test",
        "lx_problem_number": "3",
        "lx_problem_points": "8",
        "id": "tp3BvYPXn2Iw",
        "outputId": "1da9a458-2e38-46f7-80ea-c15d86978665",
        "colab": {
          "base_uri": "https://localhost:8080/"
        }
      },
      "outputs": [
        {
          "output_type": "stream",
          "name": "stdout",
          "text": [
            "Accept-Reject sampler [0.13436424411240122, 0.13436424411240122, 0.13436424411240122, 0.13436424411240122, 0.13436424411240122, 0.13436424411240122, 0.13436424411240122, 0.13436424411240122, 0.13436424411240122, 0.13436424411240122, 0.13436424411240122, 0.13436424411240122, 0.13436424411240122, 0.13436424411240122, 0.13436424411240122, 0.13436424411240122, 0.13436424411240122, 0.13436424411240122, 0.13436424411240122, 0.13436424411240122]\n"
          ]
        }
      ],
      "source": [
        "\n",
        "# If however you did not manage to implement either part 1 or part 2 but still want to check part 3, you can run the code below\n",
        "\n",
        "def testUniformGenerator(size,seed):\n",
        "    import random\n",
        "    random.seed(seed)\n",
        "\n",
        "    return [random.uniform(0,1) for s in range(size)]\n",
        "\n",
        "print(\"Accept-Reject sampler %s\" % problem3_accept_reject(uniformGenerator=testUniformGenerator, n_iterations=20, seed=1))"
      ]
    }
  ],
  "metadata": {
    "lx_assignment_number": 2,
    "lx_course_instance": "2023",
    "lx_course_name": "Introduction to Data Science",
    "lx_course_number": "1MS041",
    "colab": {
      "provenance": []
    },
    "language_info": {
      "name": "python"
    },
    "kernelspec": {
      "name": "python3",
      "display_name": "Python 3"
    }
  },
  "nbformat": 4,
  "nbformat_minor": 0
}